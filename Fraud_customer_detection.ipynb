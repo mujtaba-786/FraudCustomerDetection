{
  "nbformat": 4,
  "nbformat_minor": 0,
  "metadata": {
    "colab": {
      "name": "Fraud_customer_detection.ipynb",
      "provenance": [],
      "collapsed_sections": []
    },
    "kernelspec": {
      "name": "python3",
      "display_name": "Python 3"
    }
  },
  "cells": [
    {
      "cell_type": "code",
      "metadata": {
        "id": "Odwy72eM768p",
        "colab_type": "code",
        "outputId": "f3586d39-2b16-45ac-9206-6af4e8bee4f7",
        "colab": {
          "resources": {
            "http://localhost:8080/nbextensions/google.colab/files.js": {
              "data": "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",
              "ok": true,
              "headers": [
                [
                  "content-type",
                  "application/javascript"
                ]
              ],
              "status": 200,
              "status_text": "OK"
            }
          },
          "base_uri": "https://localhost:8080/",
          "height": 135
        }
      },
      "source": [
        "# uploading two datasets\n",
        "\n",
        "from google.colab import files\n",
        "a=files.upload()\n",
        "b=files.upload()"
      ],
      "execution_count": 365,
      "outputs": [
        {
          "output_type": "display_data",
          "data": {
            "text/html": [
              "\n",
              "     <input type=\"file\" id=\"files-a95ad9b3-df77-4a32-a690-afdfc2bffab1\" name=\"files[]\" multiple disabled />\n",
              "     <output id=\"result-a95ad9b3-df77-4a32-a690-afdfc2bffab1\">\n",
              "      Upload widget is only available when the cell has been executed in the\n",
              "      current browser session. Please rerun this cell to enable.\n",
              "      </output>\n",
              "      <script src=\"/nbextensions/google.colab/files.js\"></script> "
            ],
            "text/plain": [
              "<IPython.core.display.HTML object>"
            ]
          },
          "metadata": {
            "tags": []
          }
        },
        {
          "output_type": "stream",
          "text": [
            "Saving Customer_DF (1).csv to Customer_DF (1) (1).csv\n"
          ],
          "name": "stdout"
        },
        {
          "output_type": "display_data",
          "data": {
            "text/html": [
              "\n",
              "     <input type=\"file\" id=\"files-65b0aa7a-a6cc-459c-81a9-b7f44d3c12ca\" name=\"files[]\" multiple disabled />\n",
              "     <output id=\"result-65b0aa7a-a6cc-459c-81a9-b7f44d3c12ca\">\n",
              "      Upload widget is only available when the cell has been executed in the\n",
              "      current browser session. Please rerun this cell to enable.\n",
              "      </output>\n",
              "      <script src=\"/nbextensions/google.colab/files.js\"></script> "
            ],
            "text/plain": [
              "<IPython.core.display.HTML object>"
            ]
          },
          "metadata": {
            "tags": []
          }
        },
        {
          "output_type": "stream",
          "text": [
            "Saving cust_transaction_details (1)(1).csv to cust_transaction_details (1)(1) (1).csv\n"
          ],
          "name": "stdout"
        }
      ]
    },
    {
      "cell_type": "code",
      "metadata": {
        "id": "ofLoJ8Xq7llK",
        "colab_type": "code",
        "colab": {}
      },
      "source": [
        ""
      ],
      "execution_count": 0,
      "outputs": []
    },
    {
      "cell_type": "code",
      "metadata": {
        "id": "iHTAF9Fp8O8U",
        "colab_type": "code",
        "colab": {}
      },
      "source": [
        "# import all required modules\n",
        "\n",
        "import pandas as pd\n",
        "import matplotlib.pyplot as plt\n",
        "import io\n",
        "import numpy as np\n",
        "import seaborn as sns"
      ],
      "execution_count": 0,
      "outputs": []
    },
    {
      "cell_type": "code",
      "metadata": {
        "id": "kvRYdXx98vTf",
        "colab_type": "code",
        "colab": {}
      },
      "source": [
        "df1=pd.read_csv(io.BytesIO(a[\"Customer_DF (1).csv\"]))\n",
        "df2=pd.read_csv(io.BytesIO(b[\"cust_transaction_details (1)(1).csv\"]))"
      ],
      "execution_count": 0,
      "outputs": []
    },
    {
      "cell_type": "code",
      "metadata": {
        "id": "TVZ0mEpW89Ej",
        "colab_type": "code",
        "colab": {}
      },
      "source": [
        "# merge two datasets\n",
        "# in df3 dataframe\n",
        "\n",
        "df3=pd.merge(df2,df1,on=\"customerEmail\")"
      ],
      "execution_count": 0,
      "outputs": []
    },
    {
      "cell_type": "markdown",
      "metadata": {
        "id": "VUuVH0FA9x13",
        "colab_type": "text"
      },
      "source": [
        "***\n",
        "**DATA ANALYSIS**\n",
        "***"
      ]
    },
    {
      "cell_type": "code",
      "metadata": {
        "id": "9VjuJk32-FmM",
        "colab_type": "code",
        "outputId": "fca6289e-50df-4b3a-dc81-de352aadd0fe",
        "colab": {
          "base_uri": "https://localhost:8080/",
          "height": 148
        }
      },
      "source": [
        "df3.columns"
      ],
      "execution_count": 369,
      "outputs": [
        {
          "output_type": "execute_result",
          "data": {
            "text/plain": [
              "Index(['Unnamed: 0_x', 'customerEmail', 'transactionId', 'orderId',\n",
              "       'paymentMethodId', 'paymentMethodRegistrationFailure',\n",
              "       'paymentMethodType', 'paymentMethodProvider', 'transactionAmount',\n",
              "       'transactionFailed', 'orderState', 'Unnamed: 0_y', 'customerPhone',\n",
              "       'customerDevice', 'customerIPAddress', 'customerBillingAddress',\n",
              "       'No_Transactions', 'No_Orders', 'No_Payments', 'Fraud'],\n",
              "      dtype='object')"
            ]
          },
          "metadata": {
            "tags": []
          },
          "execution_count": 369
        }
      ]
    },
    {
      "cell_type": "code",
      "metadata": {
        "id": "hpAcRPnc9Y7I",
        "colab_type": "code",
        "outputId": "aff41071-b6ac-4a67-e390-e523cfb1e243",
        "colab": {
          "base_uri": "https://localhost:8080/",
          "height": 365
        }
      },
      "source": [
        "df3.head()"
      ],
      "execution_count": 370,
      "outputs": [
        {
          "output_type": "execute_result",
          "data": {
            "text/html": [
              "<div>\n",
              "<style scoped>\n",
              "    .dataframe tbody tr th:only-of-type {\n",
              "        vertical-align: middle;\n",
              "    }\n",
              "\n",
              "    .dataframe tbody tr th {\n",
              "        vertical-align: top;\n",
              "    }\n",
              "\n",
              "    .dataframe thead th {\n",
              "        text-align: right;\n",
              "    }\n",
              "</style>\n",
              "<table border=\"1\" class=\"dataframe\">\n",
              "  <thead>\n",
              "    <tr style=\"text-align: right;\">\n",
              "      <th></th>\n",
              "      <th>Unnamed: 0_x</th>\n",
              "      <th>customerEmail</th>\n",
              "      <th>transactionId</th>\n",
              "      <th>orderId</th>\n",
              "      <th>paymentMethodId</th>\n",
              "      <th>paymentMethodRegistrationFailure</th>\n",
              "      <th>paymentMethodType</th>\n",
              "      <th>paymentMethodProvider</th>\n",
              "      <th>transactionAmount</th>\n",
              "      <th>transactionFailed</th>\n",
              "      <th>orderState</th>\n",
              "      <th>Unnamed: 0_y</th>\n",
              "      <th>customerPhone</th>\n",
              "      <th>customerDevice</th>\n",
              "      <th>customerIPAddress</th>\n",
              "      <th>customerBillingAddress</th>\n",
              "      <th>No_Transactions</th>\n",
              "      <th>No_Orders</th>\n",
              "      <th>No_Payments</th>\n",
              "      <th>Fraud</th>\n",
              "    </tr>\n",
              "  </thead>\n",
              "  <tbody>\n",
              "    <tr>\n",
              "      <th>0</th>\n",
              "      <td>0</td>\n",
              "      <td>josephhoward@yahoo.com</td>\n",
              "      <td>a9lcj51r</td>\n",
              "      <td>vjbdvd</td>\n",
              "      <td>wt07xm68b</td>\n",
              "      <td>1</td>\n",
              "      <td>card</td>\n",
              "      <td>JCB 16 digit</td>\n",
              "      <td>18</td>\n",
              "      <td>0</td>\n",
              "      <td>pending</td>\n",
              "      <td>0</td>\n",
              "      <td>400-108-5415</td>\n",
              "      <td>yyeiaxpltf82440jnb3v</td>\n",
              "      <td>8.129.104.40</td>\n",
              "      <td>5493 Jones Islands\\nBrownside, CA 51896</td>\n",
              "      <td>2</td>\n",
              "      <td>2</td>\n",
              "      <td>1</td>\n",
              "      <td>False</td>\n",
              "    </tr>\n",
              "    <tr>\n",
              "      <th>1</th>\n",
              "      <td>1</td>\n",
              "      <td>josephhoward@yahoo.com</td>\n",
              "      <td>y4wcv03i</td>\n",
              "      <td>yp6x27</td>\n",
              "      <td>wt07xm68b</td>\n",
              "      <td>1</td>\n",
              "      <td>card</td>\n",
              "      <td>JCB 16 digit</td>\n",
              "      <td>26</td>\n",
              "      <td>0</td>\n",
              "      <td>fulfilled</td>\n",
              "      <td>0</td>\n",
              "      <td>400-108-5415</td>\n",
              "      <td>yyeiaxpltf82440jnb3v</td>\n",
              "      <td>8.129.104.40</td>\n",
              "      <td>5493 Jones Islands\\nBrownside, CA 51896</td>\n",
              "      <td>2</td>\n",
              "      <td>2</td>\n",
              "      <td>1</td>\n",
              "      <td>False</td>\n",
              "    </tr>\n",
              "    <tr>\n",
              "      <th>2</th>\n",
              "      <td>2</td>\n",
              "      <td>evansjeffery@yahoo.com</td>\n",
              "      <td>5mi94sfw</td>\n",
              "      <td>nlghpa</td>\n",
              "      <td>41ug157xz</td>\n",
              "      <td>0</td>\n",
              "      <td>bitcoin</td>\n",
              "      <td>American Express</td>\n",
              "      <td>45</td>\n",
              "      <td>0</td>\n",
              "      <td>fulfilled</td>\n",
              "      <td>1</td>\n",
              "      <td>1-788-091-7546</td>\n",
              "      <td>r0jpm7xaeqqa3kr6mzum</td>\n",
              "      <td>219.173.211.202</td>\n",
              "      <td>356 Elizabeth Inlet Suite 120\\nPort Joshuabury...</td>\n",
              "      <td>3</td>\n",
              "      <td>3</td>\n",
              "      <td>7</td>\n",
              "      <td>True</td>\n",
              "    </tr>\n",
              "    <tr>\n",
              "      <th>3</th>\n",
              "      <td>3</td>\n",
              "      <td>evansjeffery@yahoo.com</td>\n",
              "      <td>br8ba1nu</td>\n",
              "      <td>uw0eeb</td>\n",
              "      <td>41ug157xz</td>\n",
              "      <td>0</td>\n",
              "      <td>bitcoin</td>\n",
              "      <td>American Express</td>\n",
              "      <td>23</td>\n",
              "      <td>0</td>\n",
              "      <td>fulfilled</td>\n",
              "      <td>1</td>\n",
              "      <td>1-788-091-7546</td>\n",
              "      <td>r0jpm7xaeqqa3kr6mzum</td>\n",
              "      <td>219.173.211.202</td>\n",
              "      <td>356 Elizabeth Inlet Suite 120\\nPort Joshuabury...</td>\n",
              "      <td>3</td>\n",
              "      <td>3</td>\n",
              "      <td>7</td>\n",
              "      <td>True</td>\n",
              "    </tr>\n",
              "    <tr>\n",
              "      <th>4</th>\n",
              "      <td>4</td>\n",
              "      <td>evansjeffery@yahoo.com</td>\n",
              "      <td>a33145ss</td>\n",
              "      <td>bn44oh</td>\n",
              "      <td>y3xp697jx</td>\n",
              "      <td>1</td>\n",
              "      <td>bitcoin</td>\n",
              "      <td>VISA 16 digit</td>\n",
              "      <td>43</td>\n",
              "      <td>1</td>\n",
              "      <td>fulfilled</td>\n",
              "      <td>1</td>\n",
              "      <td>1-788-091-7546</td>\n",
              "      <td>r0jpm7xaeqqa3kr6mzum</td>\n",
              "      <td>219.173.211.202</td>\n",
              "      <td>356 Elizabeth Inlet Suite 120\\nPort Joshuabury...</td>\n",
              "      <td>3</td>\n",
              "      <td>3</td>\n",
              "      <td>7</td>\n",
              "      <td>True</td>\n",
              "    </tr>\n",
              "  </tbody>\n",
              "</table>\n",
              "</div>"
            ],
            "text/plain": [
              "   Unnamed: 0_x           customerEmail  ... No_Payments  Fraud\n",
              "0             0  josephhoward@yahoo.com  ...           1  False\n",
              "1             1  josephhoward@yahoo.com  ...           1  False\n",
              "2             2  evansjeffery@yahoo.com  ...           7   True\n",
              "3             3  evansjeffery@yahoo.com  ...           7   True\n",
              "4             4  evansjeffery@yahoo.com  ...           7   True\n",
              "\n",
              "[5 rows x 20 columns]"
            ]
          },
          "metadata": {
            "tags": []
          },
          "execution_count": 370
        }
      ]
    },
    {
      "cell_type": "code",
      "metadata": {
        "id": "8YGvBt94-e6n",
        "colab_type": "code",
        "outputId": "37c989cf-4f71-4b2a-8600-ceaacbaac040",
        "colab": {
          "base_uri": "https://localhost:8080/",
          "height": 417
        }
      },
      "source": [
        "df3.tail()"
      ],
      "execution_count": 371,
      "outputs": [
        {
          "output_type": "execute_result",
          "data": {
            "text/html": [
              "<div>\n",
              "<style scoped>\n",
              "    .dataframe tbody tr th:only-of-type {\n",
              "        vertical-align: middle;\n",
              "    }\n",
              "\n",
              "    .dataframe tbody tr th {\n",
              "        vertical-align: top;\n",
              "    }\n",
              "\n",
              "    .dataframe thead th {\n",
              "        text-align: right;\n",
              "    }\n",
              "</style>\n",
              "<table border=\"1\" class=\"dataframe\">\n",
              "  <thead>\n",
              "    <tr style=\"text-align: right;\">\n",
              "      <th></th>\n",
              "      <th>Unnamed: 0_x</th>\n",
              "      <th>customerEmail</th>\n",
              "      <th>transactionId</th>\n",
              "      <th>orderId</th>\n",
              "      <th>paymentMethodId</th>\n",
              "      <th>paymentMethodRegistrationFailure</th>\n",
              "      <th>paymentMethodType</th>\n",
              "      <th>paymentMethodProvider</th>\n",
              "      <th>transactionAmount</th>\n",
              "      <th>transactionFailed</th>\n",
              "      <th>orderState</th>\n",
              "      <th>Unnamed: 0_y</th>\n",
              "      <th>customerPhone</th>\n",
              "      <th>customerDevice</th>\n",
              "      <th>customerIPAddress</th>\n",
              "      <th>customerBillingAddress</th>\n",
              "      <th>No_Transactions</th>\n",
              "      <th>No_Orders</th>\n",
              "      <th>No_Payments</th>\n",
              "      <th>Fraud</th>\n",
              "    </tr>\n",
              "  </thead>\n",
              "  <tbody>\n",
              "    <tr>\n",
              "      <th>814</th>\n",
              "      <td>618</td>\n",
              "      <td>dawn05@tucker-brown.com</td>\n",
              "      <td>7yilsi1o</td>\n",
              "      <td>1bubxa</td>\n",
              "      <td>7yen1m1q8</td>\n",
              "      <td>0</td>\n",
              "      <td>card</td>\n",
              "      <td>VISA 13 digit</td>\n",
              "      <td>25</td>\n",
              "      <td>1</td>\n",
              "      <td>fulfilled</td>\n",
              "      <td>167</td>\n",
              "      <td>(089)703-7360x8848</td>\n",
              "      <td>lu4fgcug8dr0dwbcuui1</td>\n",
              "      <td>132.132.95.33</td>\n",
              "      <td>130 Kimberly Junctions\\nEricmouth, KS 59756-2919</td>\n",
              "      <td>7</td>\n",
              "      <td>5</td>\n",
              "      <td>4</td>\n",
              "      <td>False</td>\n",
              "    </tr>\n",
              "    <tr>\n",
              "      <th>815</th>\n",
              "      <td>619</td>\n",
              "      <td>dawn05@tucker-brown.com</td>\n",
              "      <td>c82k5bcv</td>\n",
              "      <td>1bubxa</td>\n",
              "      <td>7yen1m1q8</td>\n",
              "      <td>0</td>\n",
              "      <td>card</td>\n",
              "      <td>VISA 13 digit</td>\n",
              "      <td>25</td>\n",
              "      <td>0</td>\n",
              "      <td>fulfilled</td>\n",
              "      <td>167</td>\n",
              "      <td>(089)703-7360x8848</td>\n",
              "      <td>lu4fgcug8dr0dwbcuui1</td>\n",
              "      <td>132.132.95.33</td>\n",
              "      <td>130 Kimberly Junctions\\nEricmouth, KS 59756-2919</td>\n",
              "      <td>7</td>\n",
              "      <td>5</td>\n",
              "      <td>4</td>\n",
              "      <td>False</td>\n",
              "    </tr>\n",
              "    <tr>\n",
              "      <th>816</th>\n",
              "      <td>620</td>\n",
              "      <td>dawn05@tucker-brown.com</td>\n",
              "      <td>wmh52bns</td>\n",
              "      <td>1bubxa</td>\n",
              "      <td>3zmkegkb8</td>\n",
              "      <td>0</td>\n",
              "      <td>paypal</td>\n",
              "      <td>JCB 15 digit</td>\n",
              "      <td>25</td>\n",
              "      <td>1</td>\n",
              "      <td>fulfilled</td>\n",
              "      <td>167</td>\n",
              "      <td>(089)703-7360x8848</td>\n",
              "      <td>lu4fgcug8dr0dwbcuui1</td>\n",
              "      <td>132.132.95.33</td>\n",
              "      <td>130 Kimberly Junctions\\nEricmouth, KS 59756-2919</td>\n",
              "      <td>7</td>\n",
              "      <td>5</td>\n",
              "      <td>4</td>\n",
              "      <td>False</td>\n",
              "    </tr>\n",
              "    <tr>\n",
              "      <th>817</th>\n",
              "      <td>621</td>\n",
              "      <td>dawn05@tucker-brown.com</td>\n",
              "      <td>xdw33hfp</td>\n",
              "      <td>p0gdbf</td>\n",
              "      <td>3zmkegkb8</td>\n",
              "      <td>0</td>\n",
              "      <td>paypal</td>\n",
              "      <td>JCB 15 digit</td>\n",
              "      <td>19</td>\n",
              "      <td>0</td>\n",
              "      <td>fulfilled</td>\n",
              "      <td>167</td>\n",
              "      <td>(089)703-7360x8848</td>\n",
              "      <td>lu4fgcug8dr0dwbcuui1</td>\n",
              "      <td>132.132.95.33</td>\n",
              "      <td>130 Kimberly Junctions\\nEricmouth, KS 59756-2919</td>\n",
              "      <td>7</td>\n",
              "      <td>5</td>\n",
              "      <td>4</td>\n",
              "      <td>False</td>\n",
              "    </tr>\n",
              "    <tr>\n",
              "      <th>818</th>\n",
              "      <td>622</td>\n",
              "      <td>dawn05@tucker-brown.com</td>\n",
              "      <td>wgmajf82</td>\n",
              "      <td>5lmvrj</td>\n",
              "      <td>f0xnu5om9</td>\n",
              "      <td>0</td>\n",
              "      <td>card</td>\n",
              "      <td>JCB 16 digit</td>\n",
              "      <td>27</td>\n",
              "      <td>0</td>\n",
              "      <td>fulfilled</td>\n",
              "      <td>167</td>\n",
              "      <td>(089)703-7360x8848</td>\n",
              "      <td>lu4fgcug8dr0dwbcuui1</td>\n",
              "      <td>132.132.95.33</td>\n",
              "      <td>130 Kimberly Junctions\\nEricmouth, KS 59756-2919</td>\n",
              "      <td>7</td>\n",
              "      <td>5</td>\n",
              "      <td>4</td>\n",
              "      <td>False</td>\n",
              "    </tr>\n",
              "  </tbody>\n",
              "</table>\n",
              "</div>"
            ],
            "text/plain": [
              "     Unnamed: 0_x            customerEmail  ... No_Payments  Fraud\n",
              "814           618  dawn05@tucker-brown.com  ...           4  False\n",
              "815           619  dawn05@tucker-brown.com  ...           4  False\n",
              "816           620  dawn05@tucker-brown.com  ...           4  False\n",
              "817           621  dawn05@tucker-brown.com  ...           4  False\n",
              "818           622  dawn05@tucker-brown.com  ...           4  False\n",
              "\n",
              "[5 rows x 20 columns]"
            ]
          },
          "metadata": {
            "tags": []
          },
          "execution_count": 371
        }
      ]
    },
    {
      "cell_type": "code",
      "metadata": {
        "id": "tAlWop_o-j_q",
        "colab_type": "code",
        "outputId": "b467d82b-5579-401d-bf79-abfeebac9856",
        "colab": {
          "base_uri": "https://localhost:8080/",
          "height": 36
        }
      },
      "source": [
        "df3.shape"
      ],
      "execution_count": 372,
      "outputs": [
        {
          "output_type": "execute_result",
          "data": {
            "text/plain": [
              "(819, 20)"
            ]
          },
          "metadata": {
            "tags": []
          },
          "execution_count": 372
        }
      ]
    },
    {
      "cell_type": "code",
      "metadata": {
        "id": "w2PgQW1O-loW",
        "colab_type": "code",
        "outputId": "9d930cd5-69cc-4527-a025-70ff8e0a48ef",
        "colab": {
          "base_uri": "https://localhost:8080/",
          "height": 484
        }
      },
      "source": [
        "df3.info()"
      ],
      "execution_count": 373,
      "outputs": [
        {
          "output_type": "stream",
          "text": [
            "<class 'pandas.core.frame.DataFrame'>\n",
            "Int64Index: 819 entries, 0 to 818\n",
            "Data columns (total 20 columns):\n",
            "Unnamed: 0_x                        819 non-null int64\n",
            "customerEmail                       819 non-null object\n",
            "transactionId                       819 non-null object\n",
            "orderId                             819 non-null object\n",
            "paymentMethodId                     819 non-null object\n",
            "paymentMethodRegistrationFailure    819 non-null int64\n",
            "paymentMethodType                   819 non-null object\n",
            "paymentMethodProvider               819 non-null object\n",
            "transactionAmount                   819 non-null int64\n",
            "transactionFailed                   819 non-null int64\n",
            "orderState                          819 non-null object\n",
            "Unnamed: 0_y                        819 non-null int64\n",
            "customerPhone                       819 non-null object\n",
            "customerDevice                      819 non-null object\n",
            "customerIPAddress                   819 non-null object\n",
            "customerBillingAddress              819 non-null object\n",
            "No_Transactions                     819 non-null int64\n",
            "No_Orders                           819 non-null int64\n",
            "No_Payments                         819 non-null int64\n",
            "Fraud                               819 non-null bool\n",
            "dtypes: bool(1), int64(8), object(11)\n",
            "memory usage: 128.8+ KB\n"
          ],
          "name": "stdout"
        }
      ]
    },
    {
      "cell_type": "code",
      "metadata": {
        "id": "z885zzB6-nz5",
        "colab_type": "code",
        "outputId": "58a22ea8-39b5-43bc-d922-2a954edd767b",
        "colab": {
          "base_uri": "https://localhost:8080/",
          "height": 300
        }
      },
      "source": [
        "df3.describe()"
      ],
      "execution_count": 374,
      "outputs": [
        {
          "output_type": "execute_result",
          "data": {
            "text/html": [
              "<div>\n",
              "<style scoped>\n",
              "    .dataframe tbody tr th:only-of-type {\n",
              "        vertical-align: middle;\n",
              "    }\n",
              "\n",
              "    .dataframe tbody tr th {\n",
              "        vertical-align: top;\n",
              "    }\n",
              "\n",
              "    .dataframe thead th {\n",
              "        text-align: right;\n",
              "    }\n",
              "</style>\n",
              "<table border=\"1\" class=\"dataframe\">\n",
              "  <thead>\n",
              "    <tr style=\"text-align: right;\">\n",
              "      <th></th>\n",
              "      <th>Unnamed: 0_x</th>\n",
              "      <th>paymentMethodRegistrationFailure</th>\n",
              "      <th>transactionAmount</th>\n",
              "      <th>transactionFailed</th>\n",
              "      <th>Unnamed: 0_y</th>\n",
              "      <th>No_Transactions</th>\n",
              "      <th>No_Orders</th>\n",
              "      <th>No_Payments</th>\n",
              "    </tr>\n",
              "  </thead>\n",
              "  <tbody>\n",
              "    <tr>\n",
              "      <th>count</th>\n",
              "      <td>819.000000</td>\n",
              "      <td>819.000000</td>\n",
              "      <td>819.000000</td>\n",
              "      <td>819.000000</td>\n",
              "      <td>819.000000</td>\n",
              "      <td>819.000000</td>\n",
              "      <td>819.000000</td>\n",
              "      <td>819.000000</td>\n",
              "    </tr>\n",
              "    <tr>\n",
              "      <th>mean</th>\n",
              "      <td>310.683761</td>\n",
              "      <td>0.100122</td>\n",
              "      <td>35.147741</td>\n",
              "      <td>0.256410</td>\n",
              "      <td>85.655678</td>\n",
              "      <td>5.195360</td>\n",
              "      <td>3.808303</td>\n",
              "      <td>2.135531</td>\n",
              "    </tr>\n",
              "    <tr>\n",
              "      <th>std</th>\n",
              "      <td>190.195560</td>\n",
              "      <td>0.300346</td>\n",
              "      <td>19.640072</td>\n",
              "      <td>0.436918</td>\n",
              "      <td>50.682492</td>\n",
              "      <td>2.924214</td>\n",
              "      <td>1.866872</td>\n",
              "      <td>1.860001</td>\n",
              "    </tr>\n",
              "    <tr>\n",
              "      <th>min</th>\n",
              "      <td>0.000000</td>\n",
              "      <td>0.000000</td>\n",
              "      <td>10.000000</td>\n",
              "      <td>0.000000</td>\n",
              "      <td>0.000000</td>\n",
              "      <td>0.000000</td>\n",
              "      <td>0.000000</td>\n",
              "      <td>0.000000</td>\n",
              "    </tr>\n",
              "    <tr>\n",
              "      <th>25%</th>\n",
              "      <td>153.000000</td>\n",
              "      <td>0.000000</td>\n",
              "      <td>22.000000</td>\n",
              "      <td>0.000000</td>\n",
              "      <td>45.000000</td>\n",
              "      <td>3.000000</td>\n",
              "      <td>3.000000</td>\n",
              "      <td>1.000000</td>\n",
              "    </tr>\n",
              "    <tr>\n",
              "      <th>50%</th>\n",
              "      <td>284.000000</td>\n",
              "      <td>0.000000</td>\n",
              "      <td>34.000000</td>\n",
              "      <td>0.000000</td>\n",
              "      <td>80.000000</td>\n",
              "      <td>5.000000</td>\n",
              "      <td>4.000000</td>\n",
              "      <td>2.000000</td>\n",
              "    </tr>\n",
              "    <tr>\n",
              "      <th>75%</th>\n",
              "      <td>487.500000</td>\n",
              "      <td>0.000000</td>\n",
              "      <td>46.000000</td>\n",
              "      <td>1.000000</td>\n",
              "      <td>133.000000</td>\n",
              "      <td>7.000000</td>\n",
              "      <td>5.000000</td>\n",
              "      <td>3.000000</td>\n",
              "    </tr>\n",
              "    <tr>\n",
              "      <th>max</th>\n",
              "      <td>622.000000</td>\n",
              "      <td>1.000000</td>\n",
              "      <td>353.000000</td>\n",
              "      <td>1.000000</td>\n",
              "      <td>167.000000</td>\n",
              "      <td>15.000000</td>\n",
              "      <td>8.000000</td>\n",
              "      <td>15.000000</td>\n",
              "    </tr>\n",
              "  </tbody>\n",
              "</table>\n",
              "</div>"
            ],
            "text/plain": [
              "       Unnamed: 0_x  paymentMethodRegistrationFailure  ...   No_Orders  No_Payments\n",
              "count    819.000000                        819.000000  ...  819.000000   819.000000\n",
              "mean     310.683761                          0.100122  ...    3.808303     2.135531\n",
              "std      190.195560                          0.300346  ...    1.866872     1.860001\n",
              "min        0.000000                          0.000000  ...    0.000000     0.000000\n",
              "25%      153.000000                          0.000000  ...    3.000000     1.000000\n",
              "50%      284.000000                          0.000000  ...    4.000000     2.000000\n",
              "75%      487.500000                          0.000000  ...    5.000000     3.000000\n",
              "max      622.000000                          1.000000  ...    8.000000    15.000000\n",
              "\n",
              "[8 rows x 8 columns]"
            ]
          },
          "metadata": {
            "tags": []
          },
          "execution_count": 374
        }
      ]
    },
    {
      "cell_type": "markdown",
      "metadata": {
        "id": "9XEJfmU5_tcx",
        "colab_type": "text"
      },
      "source": [
        "***\n",
        "**DATA PREPARATION and VISUALIZATION**\n",
        "***"
      ]
    },
    {
      "cell_type": "code",
      "metadata": {
        "id": "3wMz0Tim-raG",
        "colab_type": "code",
        "outputId": "8caabab2-131e-41e8-dbdc-6972c47ac204",
        "colab": {
          "base_uri": "https://localhost:8080/",
          "height": 409
        }
      },
      "source": [
        "# checking null values \n",
        "# if any in \n",
        "# dataframe\n",
        "\n",
        "df3.isnull().sum()"
      ],
      "execution_count": 375,
      "outputs": [
        {
          "output_type": "execute_result",
          "data": {
            "text/plain": [
              "Unnamed: 0_x                        0\n",
              "customerEmail                       0\n",
              "transactionId                       0\n",
              "orderId                             0\n",
              "paymentMethodId                     0\n",
              "paymentMethodRegistrationFailure    0\n",
              "paymentMethodType                   0\n",
              "paymentMethodProvider               0\n",
              "transactionAmount                   0\n",
              "transactionFailed                   0\n",
              "orderState                          0\n",
              "Unnamed: 0_y                        0\n",
              "customerPhone                       0\n",
              "customerDevice                      0\n",
              "customerIPAddress                   0\n",
              "customerBillingAddress              0\n",
              "No_Transactions                     0\n",
              "No_Orders                           0\n",
              "No_Payments                         0\n",
              "Fraud                               0\n",
              "dtype: int64"
            ]
          },
          "metadata": {
            "tags": []
          },
          "execution_count": 375
        }
      ]
    },
    {
      "cell_type": "code",
      "metadata": {
        "id": "Uvq_DUNJ_-xA",
        "colab_type": "code",
        "colab": {}
      },
      "source": [
        "# removing non \n",
        "# essential columns\n",
        "\n",
        "nonessential_columns=[\"customerEmail\",\"transactionId\",\"orderId\",\"paymentMethodId\",\"paymentMethodProvider\",\"customerPhone\",\"customerDevice\",\"customerIPAddress\",\"customerBillingAddress\",\"Unnamed: 0_y\",\"Unnamed: 0_x\"]\n",
        "\n"
      ],
      "execution_count": 0,
      "outputs": []
    },
    {
      "cell_type": "code",
      "metadata": {
        "id": "a4Tw3GyvBcfL",
        "colab_type": "code",
        "colab": {}
      },
      "source": [
        "for i in nonessential_columns:\n",
        "  df3=df3.drop(columns=[i],axis=1)"
      ],
      "execution_count": 0,
      "outputs": []
    },
    {
      "cell_type": "code",
      "metadata": {
        "id": "QQJnomk3BnDs",
        "colab_type": "code",
        "outputId": "9150fabb-e00c-4683-e392-f0d1b1954a33",
        "colab": {
          "base_uri": "https://localhost:8080/",
          "height": 206
        }
      },
      "source": [
        "df3.head()"
      ],
      "execution_count": 378,
      "outputs": [
        {
          "output_type": "execute_result",
          "data": {
            "text/html": [
              "<div>\n",
              "<style scoped>\n",
              "    .dataframe tbody tr th:only-of-type {\n",
              "        vertical-align: middle;\n",
              "    }\n",
              "\n",
              "    .dataframe tbody tr th {\n",
              "        vertical-align: top;\n",
              "    }\n",
              "\n",
              "    .dataframe thead th {\n",
              "        text-align: right;\n",
              "    }\n",
              "</style>\n",
              "<table border=\"1\" class=\"dataframe\">\n",
              "  <thead>\n",
              "    <tr style=\"text-align: right;\">\n",
              "      <th></th>\n",
              "      <th>paymentMethodRegistrationFailure</th>\n",
              "      <th>paymentMethodType</th>\n",
              "      <th>transactionAmount</th>\n",
              "      <th>transactionFailed</th>\n",
              "      <th>orderState</th>\n",
              "      <th>No_Transactions</th>\n",
              "      <th>No_Orders</th>\n",
              "      <th>No_Payments</th>\n",
              "      <th>Fraud</th>\n",
              "    </tr>\n",
              "  </thead>\n",
              "  <tbody>\n",
              "    <tr>\n",
              "      <th>0</th>\n",
              "      <td>1</td>\n",
              "      <td>card</td>\n",
              "      <td>18</td>\n",
              "      <td>0</td>\n",
              "      <td>pending</td>\n",
              "      <td>2</td>\n",
              "      <td>2</td>\n",
              "      <td>1</td>\n",
              "      <td>False</td>\n",
              "    </tr>\n",
              "    <tr>\n",
              "      <th>1</th>\n",
              "      <td>1</td>\n",
              "      <td>card</td>\n",
              "      <td>26</td>\n",
              "      <td>0</td>\n",
              "      <td>fulfilled</td>\n",
              "      <td>2</td>\n",
              "      <td>2</td>\n",
              "      <td>1</td>\n",
              "      <td>False</td>\n",
              "    </tr>\n",
              "    <tr>\n",
              "      <th>2</th>\n",
              "      <td>0</td>\n",
              "      <td>bitcoin</td>\n",
              "      <td>45</td>\n",
              "      <td>0</td>\n",
              "      <td>fulfilled</td>\n",
              "      <td>3</td>\n",
              "      <td>3</td>\n",
              "      <td>7</td>\n",
              "      <td>True</td>\n",
              "    </tr>\n",
              "    <tr>\n",
              "      <th>3</th>\n",
              "      <td>0</td>\n",
              "      <td>bitcoin</td>\n",
              "      <td>23</td>\n",
              "      <td>0</td>\n",
              "      <td>fulfilled</td>\n",
              "      <td>3</td>\n",
              "      <td>3</td>\n",
              "      <td>7</td>\n",
              "      <td>True</td>\n",
              "    </tr>\n",
              "    <tr>\n",
              "      <th>4</th>\n",
              "      <td>1</td>\n",
              "      <td>bitcoin</td>\n",
              "      <td>43</td>\n",
              "      <td>1</td>\n",
              "      <td>fulfilled</td>\n",
              "      <td>3</td>\n",
              "      <td>3</td>\n",
              "      <td>7</td>\n",
              "      <td>True</td>\n",
              "    </tr>\n",
              "  </tbody>\n",
              "</table>\n",
              "</div>"
            ],
            "text/plain": [
              "   paymentMethodRegistrationFailure paymentMethodType  ...  No_Payments  Fraud\n",
              "0                                 1              card  ...            1  False\n",
              "1                                 1              card  ...            1  False\n",
              "2                                 0           bitcoin  ...            7   True\n",
              "3                                 0           bitcoin  ...            7   True\n",
              "4                                 1           bitcoin  ...            7   True\n",
              "\n",
              "[5 rows x 9 columns]"
            ]
          },
          "metadata": {
            "tags": []
          },
          "execution_count": 378
        }
      ]
    },
    {
      "cell_type": "code",
      "metadata": {
        "id": "5ezqdvAYDPbk",
        "colab_type": "code",
        "colab": {}
      },
      "source": [
        "# converting str values\n",
        "# in dataframe \n",
        "# to int format\n",
        "\n"
      ],
      "execution_count": 0,
      "outputs": []
    },
    {
      "cell_type": "code",
      "metadata": {
        "id": "0egIeIp6DfQC",
        "colab_type": "code",
        "outputId": "ba624ef2-53e1-4b45-b8df-96d8f0ea79b3",
        "colab": {
          "base_uri": "https://localhost:8080/",
          "height": 36
        }
      },
      "source": [
        "df3[\"paymentMethodType\"].unique()"
      ],
      "execution_count": 379,
      "outputs": [
        {
          "output_type": "execute_result",
          "data": {
            "text/plain": [
              "array(['card', 'bitcoin', 'apple pay', 'paypal'], dtype=object)"
            ]
          },
          "metadata": {
            "tags": []
          },
          "execution_count": 379
        }
      ]
    },
    {
      "cell_type": "code",
      "metadata": {
        "id": "eO8B1hzoDoAw",
        "colab_type": "code",
        "colab": {}
      },
      "source": [
        "df3[\"paymentMethodType\"]=df3[\"paymentMethodType\"].apply(lambda x:0 if x ==\"card\" else x )\n",
        "df3[\"paymentMethodType\"]=df3[\"paymentMethodType\"].apply(lambda x:1 if x ==\"bitcoin\" else x )\n",
        "df3[\"paymentMethodType\"]=df3[\"paymentMethodType\"].apply(lambda x:2 if x ==\"apple pay\" else x )\n",
        "df3[\"paymentMethodType\"]=df3[\"paymentMethodType\"].apply(lambda x:3 if x ==\"paypal\" else x )"
      ],
      "execution_count": 0,
      "outputs": []
    },
    {
      "cell_type": "code",
      "metadata": {
        "id": "qLy1JEscESFR",
        "colab_type": "code",
        "outputId": "7350d400-d397-4d24-e971-2e4ca8e13999",
        "colab": {
          "base_uri": "https://localhost:8080/",
          "height": 36
        }
      },
      "source": [
        "df3[\"orderState\"].unique()"
      ],
      "execution_count": 381,
      "outputs": [
        {
          "output_type": "execute_result",
          "data": {
            "text/plain": [
              "array(['pending', 'fulfilled', 'failed'], dtype=object)"
            ]
          },
          "metadata": {
            "tags": []
          },
          "execution_count": 381
        }
      ]
    },
    {
      "cell_type": "code",
      "metadata": {
        "id": "rWhp8DgwEWuW",
        "colab_type": "code",
        "colab": {}
      },
      "source": [
        "df3[\"orderState\"]=df3[\"orderState\"].apply(lambda x:0 if x==\"pending\" else x)\n",
        "df3[\"orderState\"]=df3[\"orderState\"].apply(lambda x:1 if x==\"fulfilled\" else x)\n",
        "df3[\"orderState\"]=df3[\"orderState\"].apply(lambda x:2 if x==\"failed\" else x)"
      ],
      "execution_count": 0,
      "outputs": []
    },
    {
      "cell_type": "code",
      "metadata": {
        "id": "SM73qp-nYVOR",
        "colab_type": "code",
        "outputId": "a3c50fcf-1962-4836-a4dc-d691fc41b434",
        "colab": {
          "base_uri": "https://localhost:8080/",
          "height": 36
        }
      },
      "source": [
        "df3[\"paymentMethodType\"].unique()"
      ],
      "execution_count": 383,
      "outputs": [
        {
          "output_type": "execute_result",
          "data": {
            "text/plain": [
              "array([0, 1, 2, 3])"
            ]
          },
          "metadata": {
            "tags": []
          },
          "execution_count": 383
        }
      ]
    },
    {
      "cell_type": "code",
      "metadata": {
        "id": "Li-aIdzREyV3",
        "colab_type": "code",
        "colab": {}
      },
      "source": [
        "# also converting \n",
        "# Fraud columns \n",
        "# with int values"
      ],
      "execution_count": 0,
      "outputs": []
    },
    {
      "cell_type": "code",
      "metadata": {
        "id": "3cX7Sus_FEQG",
        "colab_type": "code",
        "colab": {}
      },
      "source": [
        "df3[\"Fraud\"]=df3[\"Fraud\"].astype(int)"
      ],
      "execution_count": 0,
      "outputs": []
    },
    {
      "cell_type": "code",
      "metadata": {
        "id": "cbNPmW7SFJIh",
        "colab_type": "code",
        "colab": {}
      },
      "source": [
        "# new dataframe\n",
        "\n",
        "df3.head()\n",
        "a=df3\n"
      ],
      "execution_count": 0,
      "outputs": []
    },
    {
      "cell_type": "code",
      "metadata": {
        "id": "yjimaZFocdMH",
        "colab_type": "code",
        "colab": {}
      },
      "source": [
        ""
      ],
      "execution_count": 0,
      "outputs": []
    },
    {
      "cell_type": "code",
      "metadata": {
        "id": "_nsXIwBSFLAm",
        "colab_type": "code",
        "outputId": "8a5f1feb-b0eb-4609-cc64-4ef7a455e96a",
        "colab": {
          "base_uri": "https://localhost:8080/",
          "height": 36
        }
      },
      "source": [
        "max(df3[\"transactionAmount\"])"
      ],
      "execution_count": 387,
      "outputs": [
        {
          "output_type": "execute_result",
          "data": {
            "text/plain": [
              "353"
            ]
          },
          "metadata": {
            "tags": []
          },
          "execution_count": 387
        }
      ]
    },
    {
      "cell_type": "code",
      "metadata": {
        "id": "_Ae17EIVHzAm",
        "colab_type": "code",
        "outputId": "e7add1ab-27af-4e95-ae5c-cf1306b7325b",
        "colab": {
          "base_uri": "https://localhost:8080/",
          "height": 36
        }
      },
      "source": [
        "len(df3[df3[\"transactionAmount\"]>100])"
      ],
      "execution_count": 388,
      "outputs": [
        {
          "output_type": "execute_result",
          "data": {
            "text/plain": [
              "1"
            ]
          },
          "metadata": {
            "tags": []
          },
          "execution_count": 388
        }
      ]
    },
    {
      "cell_type": "code",
      "metadata": {
        "id": "zUp5FccKFc8y",
        "colab_type": "code",
        "outputId": "21beb2bc-923a-43f1-de3c-9a7b20c312cb",
        "colab": {
          "base_uri": "https://localhost:8080/",
          "height": 284
        }
      },
      "source": [
        "plt.plot(df3[\"transactionAmount\"])"
      ],
      "execution_count": 389,
      "outputs": [
        {
          "output_type": "execute_result",
          "data": {
            "text/plain": [
              "[<matplotlib.lines.Line2D at 0x7f963e6396d8>]"
            ]
          },
          "metadata": {
            "tags": []
          },
          "execution_count": 389
        },
        {
          "output_type": "display_data",
          "data": {
            "image/png": "[encoded data removed]",
            "text/plain": [
              "<Figure size 432x288 with 1 Axes>"
            ]
          },
          "metadata": {
            "tags": []
          }
        }
      ]
    },
    {
      "cell_type": "code",
      "metadata": {
        "id": "MjRIb7djHQp9",
        "colab_type": "code",
        "outputId": "918d4add-6104-487d-fd25-ce7c07ed78da",
        "colab": {
          "base_uri": "https://localhost:8080/",
          "height": 36
        }
      },
      "source": [
        "max(df3[\"transactionAmount\"].iloc[300:534])"
      ],
      "execution_count": 390,
      "outputs": [
        {
          "output_type": "execute_result",
          "data": {
            "text/plain": [
              "353"
            ]
          },
          "metadata": {
            "tags": []
          },
          "execution_count": 390
        }
      ]
    },
    {
      "cell_type": "code",
      "metadata": {
        "id": "c03Hbm6eHnHl",
        "colab_type": "code",
        "outputId": "bf6f897d-01b0-42ec-91c8-1471a2f7aff3",
        "colab": {
          "base_uri": "https://localhost:8080/",
          "height": 363
        }
      },
      "source": [
        "df3[400:410]"
      ],
      "execution_count": 391,
      "outputs": [
        {
          "output_type": "execute_result",
          "data": {
            "text/html": [
              "<div>\n",
              "<style scoped>\n",
              "    .dataframe tbody tr th:only-of-type {\n",
              "        vertical-align: middle;\n",
              "    }\n",
              "\n",
              "    .dataframe tbody tr th {\n",
              "        vertical-align: top;\n",
              "    }\n",
              "\n",
              "    .dataframe thead th {\n",
              "        text-align: right;\n",
              "    }\n",
              "</style>\n",
              "<table border=\"1\" class=\"dataframe\">\n",
              "  <thead>\n",
              "    <tr style=\"text-align: right;\">\n",
              "      <th></th>\n",
              "      <th>paymentMethodRegistrationFailure</th>\n",
              "      <th>paymentMethodType</th>\n",
              "      <th>transactionAmount</th>\n",
              "      <th>transactionFailed</th>\n",
              "      <th>orderState</th>\n",
              "      <th>No_Transactions</th>\n",
              "      <th>No_Orders</th>\n",
              "      <th>No_Payments</th>\n",
              "      <th>Fraud</th>\n",
              "    </tr>\n",
              "  </thead>\n",
              "  <tbody>\n",
              "    <tr>\n",
              "      <th>400</th>\n",
              "      <td>0</td>\n",
              "      <td>0</td>\n",
              "      <td>17</td>\n",
              "      <td>1</td>\n",
              "      <td>1</td>\n",
              "      <td>5</td>\n",
              "      <td>2</td>\n",
              "      <td>3</td>\n",
              "      <td>0</td>\n",
              "    </tr>\n",
              "    <tr>\n",
              "      <th>401</th>\n",
              "      <td>0</td>\n",
              "      <td>0</td>\n",
              "      <td>17</td>\n",
              "      <td>1</td>\n",
              "      <td>1</td>\n",
              "      <td>5</td>\n",
              "      <td>2</td>\n",
              "      <td>3</td>\n",
              "      <td>0</td>\n",
              "    </tr>\n",
              "    <tr>\n",
              "      <th>402</th>\n",
              "      <td>0</td>\n",
              "      <td>0</td>\n",
              "      <td>17</td>\n",
              "      <td>1</td>\n",
              "      <td>1</td>\n",
              "      <td>5</td>\n",
              "      <td>2</td>\n",
              "      <td>3</td>\n",
              "      <td>0</td>\n",
              "    </tr>\n",
              "    <tr>\n",
              "      <th>403</th>\n",
              "      <td>0</td>\n",
              "      <td>0</td>\n",
              "      <td>33</td>\n",
              "      <td>0</td>\n",
              "      <td>2</td>\n",
              "      <td>5</td>\n",
              "      <td>2</td>\n",
              "      <td>3</td>\n",
              "      <td>0</td>\n",
              "    </tr>\n",
              "    <tr>\n",
              "      <th>404</th>\n",
              "      <td>0</td>\n",
              "      <td>0</td>\n",
              "      <td>353</td>\n",
              "      <td>1</td>\n",
              "      <td>1</td>\n",
              "      <td>1</td>\n",
              "      <td>1</td>\n",
              "      <td>1</td>\n",
              "      <td>1</td>\n",
              "    </tr>\n",
              "    <tr>\n",
              "      <th>405</th>\n",
              "      <td>0</td>\n",
              "      <td>0</td>\n",
              "      <td>17</td>\n",
              "      <td>0</td>\n",
              "      <td>1</td>\n",
              "      <td>8</td>\n",
              "      <td>5</td>\n",
              "      <td>2</td>\n",
              "      <td>0</td>\n",
              "    </tr>\n",
              "    <tr>\n",
              "      <th>406</th>\n",
              "      <td>1</td>\n",
              "      <td>0</td>\n",
              "      <td>24</td>\n",
              "      <td>1</td>\n",
              "      <td>1</td>\n",
              "      <td>8</td>\n",
              "      <td>5</td>\n",
              "      <td>2</td>\n",
              "      <td>0</td>\n",
              "    </tr>\n",
              "    <tr>\n",
              "      <th>407</th>\n",
              "      <td>0</td>\n",
              "      <td>0</td>\n",
              "      <td>24</td>\n",
              "      <td>0</td>\n",
              "      <td>1</td>\n",
              "      <td>8</td>\n",
              "      <td>5</td>\n",
              "      <td>2</td>\n",
              "      <td>0</td>\n",
              "    </tr>\n",
              "    <tr>\n",
              "      <th>408</th>\n",
              "      <td>1</td>\n",
              "      <td>0</td>\n",
              "      <td>35</td>\n",
              "      <td>0</td>\n",
              "      <td>0</td>\n",
              "      <td>8</td>\n",
              "      <td>5</td>\n",
              "      <td>2</td>\n",
              "      <td>0</td>\n",
              "    </tr>\n",
              "    <tr>\n",
              "      <th>409</th>\n",
              "      <td>1</td>\n",
              "      <td>0</td>\n",
              "      <td>32</td>\n",
              "      <td>0</td>\n",
              "      <td>1</td>\n",
              "      <td>8</td>\n",
              "      <td>5</td>\n",
              "      <td>2</td>\n",
              "      <td>0</td>\n",
              "    </tr>\n",
              "  </tbody>\n",
              "</table>\n",
              "</div>"
            ],
            "text/plain": [
              "     paymentMethodRegistrationFailure  paymentMethodType  ...  No_Payments  Fraud\n",
              "400                                 0                  0  ...            3      0\n",
              "401                                 0                  0  ...            3      0\n",
              "402                                 0                  0  ...            3      0\n",
              "403                                 0                  0  ...            3      0\n",
              "404                                 0                  0  ...            1      1\n",
              "405                                 0                  0  ...            2      0\n",
              "406                                 1                  0  ...            2      0\n",
              "407                                 0                  0  ...            2      0\n",
              "408                                 1                  0  ...            2      0\n",
              "409                                 1                  0  ...            2      0\n",
              "\n",
              "[10 rows x 9 columns]"
            ]
          },
          "metadata": {
            "tags": []
          },
          "execution_count": 391
        }
      ]
    },
    {
      "cell_type": "code",
      "metadata": {
        "id": "C_JwO-hTImZP",
        "colab_type": "code",
        "colab": {}
      },
      "source": [
        "# remove row no 404\n",
        "\n",
        "df3=df3.drop([404],axis=0)"
      ],
      "execution_count": 0,
      "outputs": []
    },
    {
      "cell_type": "code",
      "metadata": {
        "id": "2xvNSpGhKCor",
        "colab_type": "code",
        "outputId": "d45ea624-e348-448f-ec1f-7dc6504f3137",
        "colab": {
          "base_uri": "https://localhost:8080/",
          "height": 36
        }
      },
      "source": [
        "m=max(df3[\"transactionAmount\"])\n",
        "m"
      ],
      "execution_count": 393,
      "outputs": [
        {
          "output_type": "execute_result",
          "data": {
            "text/plain": [
              "75"
            ]
          },
          "metadata": {
            "tags": []
          },
          "execution_count": 393
        }
      ]
    },
    {
      "cell_type": "code",
      "metadata": {
        "id": "uBYgRkYQKaNH",
        "colab_type": "code",
        "colab": {}
      },
      "source": [
        "df3[\"transactionAmount\"]=df3[\"transactionAmount\"].apply(lambda x:x/m)"
      ],
      "execution_count": 0,
      "outputs": []
    },
    {
      "cell_type": "code",
      "metadata": {
        "id": "J9xEqjHkMvsu",
        "colab_type": "code",
        "outputId": "c1e41d2f-e385-43b2-906a-4993e9ddf593",
        "colab": {
          "base_uri": "https://localhost:8080/",
          "height": 284
        }
      },
      "source": [
        "plt.plot(df3[\"transactionAmount\"])"
      ],
      "execution_count": 395,
      "outputs": [
        {
          "output_type": "execute_result",
          "data": {
            "text/plain": [
              "[<matplotlib.lines.Line2D at 0x7f963e62a0f0>]"
            ]
          },
          "metadata": {
            "tags": []
          },
          "execution_count": 395
        },
        {
          "output_type": "display_data",
          "data": {
            "image/png": "[encoded data removed]",
            "text/plain": [
              "<Figure size 432x288 with 1 Axes>"
            ]
          },
          "metadata": {
            "tags": []
          }
        }
      ]
    },
    {
      "cell_type": "code",
      "metadata": {
        "id": "KTCANqxMM0sH",
        "colab_type": "code",
        "outputId": "4f3aa846-e5fd-4497-d257-f58321161f8c",
        "colab": {
          "base_uri": "https://localhost:8080/",
          "height": 206
        }
      },
      "source": [
        "\n",
        "df3.head()"
      ],
      "execution_count": 396,
      "outputs": [
        {
          "output_type": "execute_result",
          "data": {
            "text/html": [
              "<div>\n",
              "<style scoped>\n",
              "    .dataframe tbody tr th:only-of-type {\n",
              "        vertical-align: middle;\n",
              "    }\n",
              "\n",
              "    .dataframe tbody tr th {\n",
              "        vertical-align: top;\n",
              "    }\n",
              "\n",
              "    .dataframe thead th {\n",
              "        text-align: right;\n",
              "    }\n",
              "</style>\n",
              "<table border=\"1\" class=\"dataframe\">\n",
              "  <thead>\n",
              "    <tr style=\"text-align: right;\">\n",
              "      <th></th>\n",
              "      <th>paymentMethodRegistrationFailure</th>\n",
              "      <th>paymentMethodType</th>\n",
              "      <th>transactionAmount</th>\n",
              "      <th>transactionFailed</th>\n",
              "      <th>orderState</th>\n",
              "      <th>No_Transactions</th>\n",
              "      <th>No_Orders</th>\n",
              "      <th>No_Payments</th>\n",
              "      <th>Fraud</th>\n",
              "    </tr>\n",
              "  </thead>\n",
              "  <tbody>\n",
              "    <tr>\n",
              "      <th>0</th>\n",
              "      <td>1</td>\n",
              "      <td>0</td>\n",
              "      <td>0.240000</td>\n",
              "      <td>0</td>\n",
              "      <td>0</td>\n",
              "      <td>2</td>\n",
              "      <td>2</td>\n",
              "      <td>1</td>\n",
              "      <td>0</td>\n",
              "    </tr>\n",
              "    <tr>\n",
              "      <th>1</th>\n",
              "      <td>1</td>\n",
              "      <td>0</td>\n",
              "      <td>0.346667</td>\n",
              "      <td>0</td>\n",
              "      <td>1</td>\n",
              "      <td>2</td>\n",
              "      <td>2</td>\n",
              "      <td>1</td>\n",
              "      <td>0</td>\n",
              "    </tr>\n",
              "    <tr>\n",
              "      <th>2</th>\n",
              "      <td>0</td>\n",
              "      <td>1</td>\n",
              "      <td>0.600000</td>\n",
              "      <td>0</td>\n",
              "      <td>1</td>\n",
              "      <td>3</td>\n",
              "      <td>3</td>\n",
              "      <td>7</td>\n",
              "      <td>1</td>\n",
              "    </tr>\n",
              "    <tr>\n",
              "      <th>3</th>\n",
              "      <td>0</td>\n",
              "      <td>1</td>\n",
              "      <td>0.306667</td>\n",
              "      <td>0</td>\n",
              "      <td>1</td>\n",
              "      <td>3</td>\n",
              "      <td>3</td>\n",
              "      <td>7</td>\n",
              "      <td>1</td>\n",
              "    </tr>\n",
              "    <tr>\n",
              "      <th>4</th>\n",
              "      <td>1</td>\n",
              "      <td>1</td>\n",
              "      <td>0.573333</td>\n",
              "      <td>1</td>\n",
              "      <td>1</td>\n",
              "      <td>3</td>\n",
              "      <td>3</td>\n",
              "      <td>7</td>\n",
              "      <td>1</td>\n",
              "    </tr>\n",
              "  </tbody>\n",
              "</table>\n",
              "</div>"
            ],
            "text/plain": [
              "   paymentMethodRegistrationFailure  paymentMethodType  ...  No_Payments  Fraud\n",
              "0                                 1                  0  ...            1      0\n",
              "1                                 1                  0  ...            1      0\n",
              "2                                 0                  1  ...            7      1\n",
              "3                                 0                  1  ...            7      1\n",
              "4                                 1                  1  ...            7      1\n",
              "\n",
              "[5 rows x 9 columns]"
            ]
          },
          "metadata": {
            "tags": []
          },
          "execution_count": 396
        }
      ]
    },
    {
      "cell_type": "code",
      "metadata": {
        "id": "aCUssLdPM76X",
        "colab_type": "code",
        "outputId": "86e0ed25-2dca-457b-aeb0-60fb81b746c9",
        "colab": {
          "base_uri": "https://localhost:8080/",
          "height": 36
        }
      },
      "source": [
        "a=max(df3[\"No_Transactions\"])\n",
        "a"
      ],
      "execution_count": 397,
      "outputs": [
        {
          "output_type": "execute_result",
          "data": {
            "text/plain": [
              "15"
            ]
          },
          "metadata": {
            "tags": []
          },
          "execution_count": 397
        }
      ]
    },
    {
      "cell_type": "code",
      "metadata": {
        "id": "zeO6Zc4gNYcw",
        "colab_type": "code",
        "outputId": "a275a824-4325-4d52-a607-f4c08a977bac",
        "colab": {
          "base_uri": "https://localhost:8080/",
          "height": 36
        }
      },
      "source": [
        "b=max(df3[\"No_Payments\"])\n",
        "b"
      ],
      "execution_count": 398,
      "outputs": [
        {
          "output_type": "execute_result",
          "data": {
            "text/plain": [
              "15"
            ]
          },
          "metadata": {
            "tags": []
          },
          "execution_count": 398
        }
      ]
    },
    {
      "cell_type": "code",
      "metadata": {
        "id": "xjrBfxLgNehQ",
        "colab_type": "code",
        "outputId": "c9305aa3-1a71-47c9-8ade-3f206ffe211d",
        "colab": {
          "base_uri": "https://localhost:8080/",
          "height": 36
        }
      },
      "source": [
        "c=max(df3[\"No_Orders\"])\n",
        "c"
      ],
      "execution_count": 399,
      "outputs": [
        {
          "output_type": "execute_result",
          "data": {
            "text/plain": [
              "8"
            ]
          },
          "metadata": {
            "tags": []
          },
          "execution_count": 399
        }
      ]
    },
    {
      "cell_type": "code",
      "metadata": {
        "id": "ZUUxeC-UNjZe",
        "colab_type": "code",
        "colab": {}
      },
      "source": [
        "df3[\"No_Transactions\"]=df3[\"No_Transactions\"].apply(lambda x:x/a)\n",
        "df3[\"No_Payments\"]=df3[\"No_Payments\"].apply(lambda x:x/b)\n",
        "df3[\"No_Orders\"]=df3[\"No_Orders\"].apply(lambda x:x/c)"
      ],
      "execution_count": 0,
      "outputs": []
    },
    {
      "cell_type": "code",
      "metadata": {
        "id": "8-y_s_N7OFvz",
        "colab_type": "code",
        "outputId": "df36aed5-25eb-4ce7-dcd7-76a81f26ff71",
        "colab": {
          "base_uri": "https://localhost:8080/",
          "height": 206
        }
      },
      "source": [
        "df3.head()"
      ],
      "execution_count": 401,
      "outputs": [
        {
          "output_type": "execute_result",
          "data": {
            "text/html": [
              "<div>\n",
              "<style scoped>\n",
              "    .dataframe tbody tr th:only-of-type {\n",
              "        vertical-align: middle;\n",
              "    }\n",
              "\n",
              "    .dataframe tbody tr th {\n",
              "        vertical-align: top;\n",
              "    }\n",
              "\n",
              "    .dataframe thead th {\n",
              "        text-align: right;\n",
              "    }\n",
              "</style>\n",
              "<table border=\"1\" class=\"dataframe\">\n",
              "  <thead>\n",
              "    <tr style=\"text-align: right;\">\n",
              "      <th></th>\n",
              "      <th>paymentMethodRegistrationFailure</th>\n",
              "      <th>paymentMethodType</th>\n",
              "      <th>transactionAmount</th>\n",
              "      <th>transactionFailed</th>\n",
              "      <th>orderState</th>\n",
              "      <th>No_Transactions</th>\n",
              "      <th>No_Orders</th>\n",
              "      <th>No_Payments</th>\n",
              "      <th>Fraud</th>\n",
              "    </tr>\n",
              "  </thead>\n",
              "  <tbody>\n",
              "    <tr>\n",
              "      <th>0</th>\n",
              "      <td>1</td>\n",
              "      <td>0</td>\n",
              "      <td>0.240000</td>\n",
              "      <td>0</td>\n",
              "      <td>0</td>\n",
              "      <td>0.133333</td>\n",
              "      <td>0.250</td>\n",
              "      <td>0.066667</td>\n",
              "      <td>0</td>\n",
              "    </tr>\n",
              "    <tr>\n",
              "      <th>1</th>\n",
              "      <td>1</td>\n",
              "      <td>0</td>\n",
              "      <td>0.346667</td>\n",
              "      <td>0</td>\n",
              "      <td>1</td>\n",
              "      <td>0.133333</td>\n",
              "      <td>0.250</td>\n",
              "      <td>0.066667</td>\n",
              "      <td>0</td>\n",
              "    </tr>\n",
              "    <tr>\n",
              "      <th>2</th>\n",
              "      <td>0</td>\n",
              "      <td>1</td>\n",
              "      <td>0.600000</td>\n",
              "      <td>0</td>\n",
              "      <td>1</td>\n",
              "      <td>0.200000</td>\n",
              "      <td>0.375</td>\n",
              "      <td>0.466667</td>\n",
              "      <td>1</td>\n",
              "    </tr>\n",
              "    <tr>\n",
              "      <th>3</th>\n",
              "      <td>0</td>\n",
              "      <td>1</td>\n",
              "      <td>0.306667</td>\n",
              "      <td>0</td>\n",
              "      <td>1</td>\n",
              "      <td>0.200000</td>\n",
              "      <td>0.375</td>\n",
              "      <td>0.466667</td>\n",
              "      <td>1</td>\n",
              "    </tr>\n",
              "    <tr>\n",
              "      <th>4</th>\n",
              "      <td>1</td>\n",
              "      <td>1</td>\n",
              "      <td>0.573333</td>\n",
              "      <td>1</td>\n",
              "      <td>1</td>\n",
              "      <td>0.200000</td>\n",
              "      <td>0.375</td>\n",
              "      <td>0.466667</td>\n",
              "      <td>1</td>\n",
              "    </tr>\n",
              "  </tbody>\n",
              "</table>\n",
              "</div>"
            ],
            "text/plain": [
              "   paymentMethodRegistrationFailure  paymentMethodType  ...  No_Payments  Fraud\n",
              "0                                 1                  0  ...     0.066667      0\n",
              "1                                 1                  0  ...     0.066667      0\n",
              "2                                 0                  1  ...     0.466667      1\n",
              "3                                 0                  1  ...     0.466667      1\n",
              "4                                 1                  1  ...     0.466667      1\n",
              "\n",
              "[5 rows x 9 columns]"
            ]
          },
          "metadata": {
            "tags": []
          },
          "execution_count": 401
        }
      ]
    },
    {
      "cell_type": "code",
      "metadata": {
        "id": "p-KY9ms0OKD8",
        "colab_type": "code",
        "outputId": "f770c5db-70ed-4c79-f6a0-8d8a55420f8c",
        "colab": {
          "base_uri": "https://localhost:8080/",
          "height": 1000
        }
      },
      "source": [
        "sns.pairplot(df3)"
      ],
      "execution_count": 402,
      "outputs": [
        {
          "output_type": "execute_result",
          "data": {
            "text/plain": [
              "<seaborn.axisgrid.PairGrid at 0x7f963e654b00>"
            ]
          },
          "metadata": {
            "tags": []
          },
          "execution_count": 402
        },
        {
          "output_type": "display_data",
          "data": {
            "image/png": "[encoded data removed]",
            "text/plain": [
              "<Figure size 1620x1620 with 90 Axes>"
            ]
          },
          "metadata": {
            "tags": []
          }
        }
      ]
    },
    {
      "cell_type": "code",
      "metadata": {
        "id": "l3bNjS2POVfa",
        "colab_type": "code",
        "outputId": "389de98a-a80b-43f8-a07e-4d2197b88df0",
        "colab": {
          "base_uri": "https://localhost:8080/",
          "height": 749
        }
      },
      "source": [
        "cor=df3.corr()\n",
        "sns.heatmap(cor,cmap=\"coolwarm\")\n",
        "cor\n"
      ],
      "execution_count": 403,
      "outputs": [
        {
          "output_type": "execute_result",
          "data": {
            "text/html": [
              "<div>\n",
              "<style scoped>\n",
              "    .dataframe tbody tr th:only-of-type {\n",
              "        vertical-align: middle;\n",
              "    }\n",
              "\n",
              "    .dataframe tbody tr th {\n",
              "        vertical-align: top;\n",
              "    }\n",
              "\n",
              "    .dataframe thead th {\n",
              "        text-align: right;\n",
              "    }\n",
              "</style>\n",
              "<table border=\"1\" class=\"dataframe\">\n",
              "  <thead>\n",
              "    <tr style=\"text-align: right;\">\n",
              "      <th></th>\n",
              "      <th>paymentMethodRegistrationFailure</th>\n",
              "      <th>paymentMethodType</th>\n",
              "      <th>transactionAmount</th>\n",
              "      <th>transactionFailed</th>\n",
              "      <th>orderState</th>\n",
              "      <th>No_Transactions</th>\n",
              "      <th>No_Orders</th>\n",
              "      <th>No_Payments</th>\n",
              "      <th>Fraud</th>\n",
              "    </tr>\n",
              "  </thead>\n",
              "  <tbody>\n",
              "    <tr>\n",
              "      <th>paymentMethodRegistrationFailure</th>\n",
              "      <td>1.000000</td>\n",
              "      <td>-0.010156</td>\n",
              "      <td>0.041677</td>\n",
              "      <td>0.009789</td>\n",
              "      <td>-0.020841</td>\n",
              "      <td>0.134583</td>\n",
              "      <td>0.147246</td>\n",
              "      <td>-0.022387</td>\n",
              "      <td>-0.068034</td>\n",
              "    </tr>\n",
              "    <tr>\n",
              "      <th>paymentMethodType</th>\n",
              "      <td>-0.010156</td>\n",
              "      <td>1.000000</td>\n",
              "      <td>0.001530</td>\n",
              "      <td>-0.033896</td>\n",
              "      <td>-0.014913</td>\n",
              "      <td>-0.063382</td>\n",
              "      <td>0.001737</td>\n",
              "      <td>0.021569</td>\n",
              "      <td>-0.137535</td>\n",
              "    </tr>\n",
              "    <tr>\n",
              "      <th>transactionAmount</th>\n",
              "      <td>0.041677</td>\n",
              "      <td>0.001530</td>\n",
              "      <td>1.000000</td>\n",
              "      <td>-0.026606</td>\n",
              "      <td>0.022630</td>\n",
              "      <td>0.123582</td>\n",
              "      <td>0.255754</td>\n",
              "      <td>0.080892</td>\n",
              "      <td>0.317392</td>\n",
              "    </tr>\n",
              "    <tr>\n",
              "      <th>transactionFailed</th>\n",
              "      <td>0.009789</td>\n",
              "      <td>-0.033896</td>\n",
              "      <td>-0.026606</td>\n",
              "      <td>1.000000</td>\n",
              "      <td>-0.051555</td>\n",
              "      <td>0.195882</td>\n",
              "      <td>0.002026</td>\n",
              "      <td>-0.035597</td>\n",
              "      <td>-0.081663</td>\n",
              "    </tr>\n",
              "    <tr>\n",
              "      <th>orderState</th>\n",
              "      <td>-0.020841</td>\n",
              "      <td>-0.014913</td>\n",
              "      <td>0.022630</td>\n",
              "      <td>-0.051555</td>\n",
              "      <td>1.000000</td>\n",
              "      <td>-0.123718</td>\n",
              "      <td>0.002557</td>\n",
              "      <td>-0.019221</td>\n",
              "      <td>0.087044</td>\n",
              "    </tr>\n",
              "    <tr>\n",
              "      <th>No_Transactions</th>\n",
              "      <td>0.134583</td>\n",
              "      <td>-0.063382</td>\n",
              "      <td>0.123582</td>\n",
              "      <td>0.195882</td>\n",
              "      <td>-0.123718</td>\n",
              "      <td>1.000000</td>\n",
              "      <td>0.775721</td>\n",
              "      <td>0.134956</td>\n",
              "      <td>-0.061135</td>\n",
              "    </tr>\n",
              "    <tr>\n",
              "      <th>No_Orders</th>\n",
              "      <td>0.147246</td>\n",
              "      <td>0.001737</td>\n",
              "      <td>0.255754</td>\n",
              "      <td>0.002026</td>\n",
              "      <td>0.002557</td>\n",
              "      <td>0.775721</td>\n",
              "      <td>1.000000</td>\n",
              "      <td>0.294477</td>\n",
              "      <td>0.109586</td>\n",
              "    </tr>\n",
              "    <tr>\n",
              "      <th>No_Payments</th>\n",
              "      <td>-0.022387</td>\n",
              "      <td>0.021569</td>\n",
              "      <td>0.080892</td>\n",
              "      <td>-0.035597</td>\n",
              "      <td>-0.019221</td>\n",
              "      <td>0.134956</td>\n",
              "      <td>0.294477</td>\n",
              "      <td>1.000000</td>\n",
              "      <td>0.142939</td>\n",
              "    </tr>\n",
              "    <tr>\n",
              "      <th>Fraud</th>\n",
              "      <td>-0.068034</td>\n",
              "      <td>-0.137535</td>\n",
              "      <td>0.317392</td>\n",
              "      <td>-0.081663</td>\n",
              "      <td>0.087044</td>\n",
              "      <td>-0.061135</td>\n",
              "      <td>0.109586</td>\n",
              "      <td>0.142939</td>\n",
              "      <td>1.000000</td>\n",
              "    </tr>\n",
              "  </tbody>\n",
              "</table>\n",
              "</div>"
            ],
            "text/plain": [
              "                                  paymentMethodRegistrationFailure  ...     Fraud\n",
              "paymentMethodRegistrationFailure                          1.000000  ... -0.068034\n",
              "paymentMethodType                                        -0.010156  ... -0.137535\n",
              "transactionAmount                                         0.041677  ...  0.317392\n",
              "transactionFailed                                         0.009789  ... -0.081663\n",
              "orderState                                               -0.020841  ...  0.087044\n",
              "No_Transactions                                           0.134583  ... -0.061135\n",
              "No_Orders                                                 0.147246  ...  0.109586\n",
              "No_Payments                                              -0.022387  ...  0.142939\n",
              "Fraud                                                    -0.068034  ...  1.000000\n",
              "\n",
              "[9 rows x 9 columns]"
            ]
          },
          "metadata": {
            "tags": []
          },
          "execution_count": 403
        },
        {
          "output_type": "display_data",
          "data": {
            "image/png": "[encoded data removed]",
            "text/plain": [
              "<Figure size 432x288 with 2 Axes>"
            ]
          },
          "metadata": {
            "tags": []
          }
        }
      ]
    },
    {
      "cell_type": "markdown",
      "metadata": {
        "id": "YBQtU_te4od2",
        "colab_type": "text"
      },
      "source": [
        "Here we see that the columns of dataframe i.e. No_Transactions ,transactionFailed ,paymentMethodType ,paymentMethodRegistrationFailure are less correlated with fraud column and thus not contribute to our model accuracy."
      ]
    },
    {
      "cell_type": "code",
      "metadata": {
        "id": "aP3RECertIQe",
        "colab_type": "code",
        "colab": {}
      },
      "source": [
        "# therefore removing\n",
        "# all above columns \n",
        "\n",
        "lis=[\"No_Transactions\",\"transactionFailed\",\"paymentMethodType\",\"paymentMethodRegistrationFailure\",\"\"]\n",
        "\n",
        "for i in lis:\n",
        "  df3=df3.drop([i],axis=1)"
      ],
      "execution_count": 0,
      "outputs": []
    },
    {
      "cell_type": "code",
      "metadata": {
        "id": "cBt2bPqz7CvW",
        "colab_type": "code",
        "colab": {
          "base_uri": "https://localhost:8080/",
          "height": 544
        },
        "outputId": "27af64ca-b00d-42f4-88fc-9266085ca295"
      },
      "source": [
        "sns.heatmap(df3.corr(),cmap=\"coolwarm\")\n",
        "df3.corr()"
      ],
      "execution_count": 460,
      "outputs": [
        {
          "output_type": "execute_result",
          "data": {
            "text/html": [
              "<div>\n",
              "<style scoped>\n",
              "    .dataframe tbody tr th:only-of-type {\n",
              "        vertical-align: middle;\n",
              "    }\n",
              "\n",
              "    .dataframe tbody tr th {\n",
              "        vertical-align: top;\n",
              "    }\n",
              "\n",
              "    .dataframe thead th {\n",
              "        text-align: right;\n",
              "    }\n",
              "</style>\n",
              "<table border=\"1\" class=\"dataframe\">\n",
              "  <thead>\n",
              "    <tr style=\"text-align: right;\">\n",
              "      <th></th>\n",
              "      <th>transactionAmount</th>\n",
              "      <th>orderState</th>\n",
              "      <th>No_Orders</th>\n",
              "      <th>No_Payments</th>\n",
              "      <th>Fraud</th>\n",
              "    </tr>\n",
              "  </thead>\n",
              "  <tbody>\n",
              "    <tr>\n",
              "      <th>transactionAmount</th>\n",
              "      <td>1.000000</td>\n",
              "      <td>0.022630</td>\n",
              "      <td>0.255754</td>\n",
              "      <td>0.080892</td>\n",
              "      <td>0.317392</td>\n",
              "    </tr>\n",
              "    <tr>\n",
              "      <th>orderState</th>\n",
              "      <td>0.022630</td>\n",
              "      <td>1.000000</td>\n",
              "      <td>0.002557</td>\n",
              "      <td>-0.019221</td>\n",
              "      <td>0.087044</td>\n",
              "    </tr>\n",
              "    <tr>\n",
              "      <th>No_Orders</th>\n",
              "      <td>0.255754</td>\n",
              "      <td>0.002557</td>\n",
              "      <td>1.000000</td>\n",
              "      <td>0.294477</td>\n",
              "      <td>0.109586</td>\n",
              "    </tr>\n",
              "    <tr>\n",
              "      <th>No_Payments</th>\n",
              "      <td>0.080892</td>\n",
              "      <td>-0.019221</td>\n",
              "      <td>0.294477</td>\n",
              "      <td>1.000000</td>\n",
              "      <td>0.142939</td>\n",
              "    </tr>\n",
              "    <tr>\n",
              "      <th>Fraud</th>\n",
              "      <td>0.317392</td>\n",
              "      <td>0.087044</td>\n",
              "      <td>0.109586</td>\n",
              "      <td>0.142939</td>\n",
              "      <td>1.000000</td>\n",
              "    </tr>\n",
              "  </tbody>\n",
              "</table>\n",
              "</div>"
            ],
            "text/plain": [
              "                   transactionAmount  orderState  ...  No_Payments     Fraud\n",
              "transactionAmount           1.000000    0.022630  ...     0.080892  0.317392\n",
              "orderState                  0.022630    1.000000  ...    -0.019221  0.087044\n",
              "No_Orders                   0.255754    0.002557  ...     0.294477  0.109586\n",
              "No_Payments                 0.080892   -0.019221  ...     1.000000  0.142939\n",
              "Fraud                       0.317392    0.087044  ...     0.142939  1.000000\n",
              "\n",
              "[5 rows x 5 columns]"
            ]
          },
          "metadata": {
            "tags": []
          },
          "execution_count": 460
        },
        {
          "output_type": "display_data",
          "data": {
            "image/png": "[encoded data removed]",
            "text/plain": [
              "<Figure size 432x288 with 2 Axes>"
            ]
          },
          "metadata": {
            "tags": []
          }
        }
      ]
    },
    {
      "cell_type": "code",
      "metadata": {
        "id": "OWkkWKeLPup2",
        "colab_type": "code",
        "colab": {
          "base_uri": "https://localhost:8080/",
          "height": 298
        },
        "outputId": "505daa15-787f-4a92-941a-55d2e3c2129e"
      },
      "source": [
        "sns.countplot(df3[\"Fraud\"])"
      ],
      "execution_count": 768,
      "outputs": [
        {
          "output_type": "execute_result",
          "data": {
            "text/plain": [
              "<matplotlib.axes._subplots.AxesSubplot at 0x7f963af7e5c0>"
            ]
          },
          "metadata": {
            "tags": []
          },
          "execution_count": 768
        },
        {
          "output_type": "display_data",
          "data": {
            "image/png": "[encoded data removed]",
            "text/plain": [
              "<Figure size 432x288 with 1 Axes>"
            ]
          },
          "metadata": {
            "tags": []
          }
        }
      ]
    },
    {
      "cell_type": "code",
      "metadata": {
        "id": "hTbNkWXeOm7D",
        "colab_type": "code",
        "outputId": "2a435cd4-d298-47bf-9ad4-2bdd4f105000",
        "colab": {
          "base_uri": "https://localhost:8080/",
          "height": 321
        }
      },
      "source": [
        "plt.hist(df3[\"Fraud\"])"
      ],
      "execution_count": 405,
      "outputs": [
        {
          "output_type": "execute_result",
          "data": {
            "text/plain": [
              "(array([366.,   0.,   0.,   0.,   0.,   0.,   0.,   0.,   0., 452.]),\n",
              " array([0. , 0.1, 0.2, 0.3, 0.4, 0.5, 0.6, 0.7, 0.8, 0.9, 1. ]),\n",
              " <a list of 10 Patch objects>)"
            ]
          },
          "metadata": {
            "tags": []
          },
          "execution_count": 405
        },
        {
          "output_type": "display_data",
          "data": {
            "image/png": "[encoded data removed]",
            "text/plain": [
              "<Figure size 432x288 with 1 Axes>"
            ]
          },
          "metadata": {
            "tags": []
          }
        }
      ]
    },
    {
      "cell_type": "code",
      "metadata": {
        "id": "aKeWtrWuR0g4",
        "colab_type": "code",
        "outputId": "35ca0bc4-fa82-4fd0-87ee-3aed95500c43",
        "colab": {
          "base_uri": "https://localhost:8080/",
          "height": 299
        }
      },
      "source": [
        "\n",
        "sns.barplot(df3[\"orderState\"],df3[\"Fraud\"])"
      ],
      "execution_count": 406,
      "outputs": [
        {
          "output_type": "execute_result",
          "data": {
            "text/plain": [
              "<matplotlib.axes._subplots.AxesSubplot at 0x7f963cb8c390>"
            ]
          },
          "metadata": {
            "tags": []
          },
          "execution_count": 406
        },
        {
          "output_type": "display_data",
          "data": {
            "image/png": "[encoded data removed]",
            "text/plain": [
              "<Figure size 432x288 with 1 Axes>"
            ]
          },
          "metadata": {
            "tags": []
          }
        }
      ]
    },
    {
      "cell_type": "code",
      "metadata": {
        "id": "UJWvYY0TW8hV",
        "colab_type": "code",
        "outputId": "7cab265e-7f46-4ead-ff8e-0c4c419e070f",
        "colab": {
          "base_uri": "https://localhost:8080/",
          "height": 1000
        }
      },
      "source": [
        "df3.hist(figsize=(20,20))"
      ],
      "execution_count": 409,
      "outputs": [
        {
          "output_type": "stream",
          "text": [
            "/usr/local/lib/python3.6/dist-packages/pandas/plotting/_matplotlib/tools.py:307: MatplotlibDeprecationWarning: \n",
            "The rowNum attribute was deprecated in Matplotlib 3.2 and will be removed two minor releases later. Use ax.get_subplotspec().rowspan.start instead.\n",
            "  layout[ax.rowNum, ax.colNum] = ax.get_visible()\n",
            "/usr/local/lib/python3.6/dist-packages/pandas/plotting/_matplotlib/tools.py:307: MatplotlibDeprecationWarning: \n",
            "The colNum attribute was deprecated in Matplotlib 3.2 and will be removed two minor releases later. Use ax.get_subplotspec().colspan.start instead.\n",
            "  layout[ax.rowNum, ax.colNum] = ax.get_visible()\n",
            "/usr/local/lib/python3.6/dist-packages/pandas/plotting/_matplotlib/tools.py:313: MatplotlibDeprecationWarning: \n",
            "The rowNum attribute was deprecated in Matplotlib 3.2 and will be removed two minor releases later. Use ax.get_subplotspec().rowspan.start instead.\n",
            "  if not layout[ax.rowNum + 1, ax.colNum]:\n",
            "/usr/local/lib/python3.6/dist-packages/pandas/plotting/_matplotlib/tools.py:313: MatplotlibDeprecationWarning: \n",
            "The colNum attribute was deprecated in Matplotlib 3.2 and will be removed two minor releases later. Use ax.get_subplotspec().colspan.start instead.\n",
            "  if not layout[ax.rowNum + 1, ax.colNum]:\n"
          ],
          "name": "stderr"
        },
        {
          "output_type": "execute_result",
          "data": {
            "text/plain": [
              "array([[<matplotlib.axes._subplots.AxesSubplot object at 0x7f963c911b70>,\n",
              "        <matplotlib.axes._subplots.AxesSubplot object at 0x7f963c5fe3c8>],\n",
              "       [<matplotlib.axes._subplots.AxesSubplot object at 0x7f963c62d630>,\n",
              "        <matplotlib.axes._subplots.AxesSubplot object at 0x7f963c5df898>],\n",
              "       [<matplotlib.axes._subplots.AxesSubplot object at 0x7f963c592b00>,\n",
              "        <matplotlib.axes._subplots.AxesSubplot object at 0x7f963c546d68>]],\n",
              "      dtype=object)"
            ]
          },
          "metadata": {
            "tags": []
          },
          "execution_count": 409
        },
        {
          "output_type": "display_data",
          "data": {
            "image/png": "[encoded data removed]",
            "text/plain": [
              "<Figure size 1440x1440 with 6 Axes>"
            ]
          },
          "metadata": {
            "tags": []
          }
        }
      ]
    },
    {
      "cell_type": "markdown",
      "metadata": {
        "id": "6vBSWQXLVFlE",
        "colab_type": "text"
      },
      "source": [
        "**FRAUD DETECTION WITH ML MODELS**\n",
        "**i.e. TRAINING AND TESTING WITH ML MODELS**"
      ]
    },
    {
      "cell_type": "code",
      "metadata": {
        "id": "DlO_B3U8VCyh",
        "colab_type": "code",
        "colab": {}
      },
      "source": [
        "x=df3.iloc[:,0:4]\n",
        "y=df3.iloc[:,4:5]\n",
        "from sklearn.model_selection import train_test_split"
      ],
      "execution_count": 0,
      "outputs": []
    },
    {
      "cell_type": "code",
      "metadata": {
        "id": "jXuuqRWeUbbq",
        "colab_type": "code",
        "outputId": "2702bbe3-2bb9-459e-e155-b49dcb76d976",
        "colab": {
          "base_uri": "https://localhost:8080/",
          "height": 206
        }
      },
      "source": [
        "x.head()"
      ],
      "execution_count": 746,
      "outputs": [
        {
          "output_type": "execute_result",
          "data": {
            "text/html": [
              "<div>\n",
              "<style scoped>\n",
              "    .dataframe tbody tr th:only-of-type {\n",
              "        vertical-align: middle;\n",
              "    }\n",
              "\n",
              "    .dataframe tbody tr th {\n",
              "        vertical-align: top;\n",
              "    }\n",
              "\n",
              "    .dataframe thead th {\n",
              "        text-align: right;\n",
              "    }\n",
              "</style>\n",
              "<table border=\"1\" class=\"dataframe\">\n",
              "  <thead>\n",
              "    <tr style=\"text-align: right;\">\n",
              "      <th></th>\n",
              "      <th>transactionAmount</th>\n",
              "      <th>orderState</th>\n",
              "      <th>No_Orders</th>\n",
              "      <th>No_Payments</th>\n",
              "    </tr>\n",
              "  </thead>\n",
              "  <tbody>\n",
              "    <tr>\n",
              "      <th>0</th>\n",
              "      <td>0.240000</td>\n",
              "      <td>0</td>\n",
              "      <td>0.250</td>\n",
              "      <td>0.066667</td>\n",
              "    </tr>\n",
              "    <tr>\n",
              "      <th>1</th>\n",
              "      <td>0.346667</td>\n",
              "      <td>1</td>\n",
              "      <td>0.250</td>\n",
              "      <td>0.066667</td>\n",
              "    </tr>\n",
              "    <tr>\n",
              "      <th>2</th>\n",
              "      <td>0.600000</td>\n",
              "      <td>1</td>\n",
              "      <td>0.375</td>\n",
              "      <td>0.466667</td>\n",
              "    </tr>\n",
              "    <tr>\n",
              "      <th>3</th>\n",
              "      <td>0.306667</td>\n",
              "      <td>1</td>\n",
              "      <td>0.375</td>\n",
              "      <td>0.466667</td>\n",
              "    </tr>\n",
              "    <tr>\n",
              "      <th>4</th>\n",
              "      <td>0.573333</td>\n",
              "      <td>1</td>\n",
              "      <td>0.375</td>\n",
              "      <td>0.466667</td>\n",
              "    </tr>\n",
              "  </tbody>\n",
              "</table>\n",
              "</div>"
            ],
            "text/plain": [
              "   transactionAmount  orderState  No_Orders  No_Payments\n",
              "0           0.240000           0      0.250     0.066667\n",
              "1           0.346667           1      0.250     0.066667\n",
              "2           0.600000           1      0.375     0.466667\n",
              "3           0.306667           1      0.375     0.466667\n",
              "4           0.573333           1      0.375     0.466667"
            ]
          },
          "metadata": {
            "tags": []
          },
          "execution_count": 746
        }
      ]
    },
    {
      "cell_type": "code",
      "metadata": {
        "id": "YqpG3ta1VaAo",
        "colab_type": "code",
        "outputId": "8906617d-230b-4a98-fede-ce6b6b7605ab",
        "colab": {
          "base_uri": "https://localhost:8080/",
          "height": 206
        }
      },
      "source": [
        "y.head()"
      ],
      "execution_count": 747,
      "outputs": [
        {
          "output_type": "execute_result",
          "data": {
            "text/html": [
              "<div>\n",
              "<style scoped>\n",
              "    .dataframe tbody tr th:only-of-type {\n",
              "        vertical-align: middle;\n",
              "    }\n",
              "\n",
              "    .dataframe tbody tr th {\n",
              "        vertical-align: top;\n",
              "    }\n",
              "\n",
              "    .dataframe thead th {\n",
              "        text-align: right;\n",
              "    }\n",
              "</style>\n",
              "<table border=\"1\" class=\"dataframe\">\n",
              "  <thead>\n",
              "    <tr style=\"text-align: right;\">\n",
              "      <th></th>\n",
              "      <th>Fraud</th>\n",
              "    </tr>\n",
              "  </thead>\n",
              "  <tbody>\n",
              "    <tr>\n",
              "      <th>0</th>\n",
              "      <td>0</td>\n",
              "    </tr>\n",
              "    <tr>\n",
              "      <th>1</th>\n",
              "      <td>0</td>\n",
              "    </tr>\n",
              "    <tr>\n",
              "      <th>2</th>\n",
              "      <td>1</td>\n",
              "    </tr>\n",
              "    <tr>\n",
              "      <th>3</th>\n",
              "      <td>1</td>\n",
              "    </tr>\n",
              "    <tr>\n",
              "      <th>4</th>\n",
              "      <td>1</td>\n",
              "    </tr>\n",
              "  </tbody>\n",
              "</table>\n",
              "</div>"
            ],
            "text/plain": [
              "   Fraud\n",
              "0      0\n",
              "1      0\n",
              "2      1\n",
              "3      1\n",
              "4      1"
            ]
          },
          "metadata": {
            "tags": []
          },
          "execution_count": 747
        }
      ]
    },
    {
      "cell_type": "code",
      "metadata": {
        "id": "BRm68dYbXkn3",
        "colab_type": "code",
        "colab": {}
      },
      "source": [
        "x_train, x_val, y_train, y_val = train_test_split(x, y, test_size = 0.2, random_state = 40)"
      ],
      "execution_count": 0,
      "outputs": []
    },
    {
      "cell_type": "code",
      "metadata": {
        "id": "xretc63FDSNE",
        "colab_type": "code",
        "colab": {}
      },
      "source": [
        "from sklearn.preprocessing import StandardScaler\n",
        "sc=StandardScaler()\n"
      ],
      "execution_count": 0,
      "outputs": []
    },
    {
      "cell_type": "code",
      "metadata": {
        "id": "C2xJCZLjDiiU",
        "colab_type": "code",
        "colab": {}
      },
      "source": [
        "x_train=sc.fit_transform(x_train)\n",
        "x_val=sc.transform(x_val)"
      ],
      "execution_count": 0,
      "outputs": []
    },
    {
      "cell_type": "code",
      "metadata": {
        "id": "xHquEem4XlRw",
        "colab_type": "code",
        "outputId": "039832b5-d1a6-4422-cdc7-fed7892ea841",
        "colab": {
          "base_uri": "https://localhost:8080/",
          "height": 93
        }
      },
      "source": [
        "from sklearn.naive_bayes import GaussianNB\n",
        "from sklearn.metrics import accuracy_score\n",
        "\n",
        "gaussian = GaussianNB()\n",
        "gaussian.fit(x_train, y_train)\n",
        "y_pred = gaussian.predict(x_val)\n",
        "acc_gaussian = round(accuracy_score(y_pred, y_val) * 100, 2)\n",
        "print(acc_gaussian)"
      ],
      "execution_count": 750,
      "outputs": [
        {
          "output_type": "stream",
          "text": [
            "71.34\n"
          ],
          "name": "stdout"
        },
        {
          "output_type": "stream",
          "text": [
            "/usr/local/lib/python3.6/dist-packages/sklearn/naive_bayes.py:206: DataConversionWarning: A column-vector y was passed when a 1d array was expected. Please change the shape of y to (n_samples, ), for example using ravel().\n",
            "  y = column_or_1d(y, warn=True)\n"
          ],
          "name": "stderr"
        }
      ]
    },
    {
      "cell_type": "code",
      "metadata": {
        "id": "2xeM0LKHX0fh",
        "colab_type": "code",
        "outputId": "690eb92d-ccf5-4611-96b7-3b2c03158890",
        "colab": {
          "base_uri": "https://localhost:8080/",
          "height": 93
        }
      },
      "source": [
        "from sklearn.linear_model import LogisticRegression\n",
        "\n",
        "logreg = LogisticRegression()\n",
        "logreg.fit(x_train, y_train)\n",
        "y_pred = logreg.predict(x_val)\n",
        "acc_logreg = round(accuracy_score(y_pred, y_val) * 100, 2)\n",
        "print(acc_logreg)"
      ],
      "execution_count": 751,
      "outputs": [
        {
          "output_type": "stream",
          "text": [
            "63.41\n"
          ],
          "name": "stdout"
        },
        {
          "output_type": "stream",
          "text": [
            "/usr/local/lib/python3.6/dist-packages/sklearn/utils/validation.py:760: DataConversionWarning: A column-vector y was passed when a 1d array was expected. Please change the shape of y to (n_samples, ), for example using ravel().\n",
            "  y = column_or_1d(y, warn=True)\n"
          ],
          "name": "stderr"
        }
      ]
    },
    {
      "cell_type": "code",
      "metadata": {
        "id": "0RXBxPGlaXup",
        "colab_type": "code",
        "outputId": "8bc57c47-2ccb-4c4e-945a-4dde14b7fc99",
        "colab": {
          "base_uri": "https://localhost:8080/",
          "height": 93
        }
      },
      "source": [
        "from sklearn.svm import SVC\n",
        "\n",
        "svc = SVC(gamma=\"auto\")\n",
        "svc.fit(x_train, y_train)\n",
        "y_pred = svc.predict(x_val)\n",
        "acc_svc = round(accuracy_score(y_pred, y_val) * 100, 2)\n",
        "print(acc_svc)"
      ],
      "execution_count": 752,
      "outputs": [
        {
          "output_type": "stream",
          "text": [
            "69.51\n"
          ],
          "name": "stdout"
        },
        {
          "output_type": "stream",
          "text": [
            "/usr/local/lib/python3.6/dist-packages/sklearn/utils/validation.py:760: DataConversionWarning: A column-vector y was passed when a 1d array was expected. Please change the shape of y to (n_samples, ), for example using ravel().\n",
            "  y = column_or_1d(y, warn=True)\n"
          ],
          "name": "stderr"
        }
      ]
    },
    {
      "cell_type": "code",
      "metadata": {
        "id": "5lXIVPkaaZ_C",
        "colab_type": "code",
        "outputId": "7b743525-89aa-46f3-9b38-987c3b29fe71",
        "colab": {
          "base_uri": "https://localhost:8080/",
          "height": 93
        }
      },
      "source": [
        "from sklearn.svm import LinearSVC\n",
        "\n",
        "linear_svc = LinearSVC()\n",
        "linear_svc.fit(x_train, y_train)\n",
        "y_pred = linear_svc.predict(x_val)\n",
        "acc_linear_svc = round(accuracy_score(y_pred, y_val) * 100, 2)\n",
        "print(acc_linear_svc)"
      ],
      "execution_count": 753,
      "outputs": [
        {
          "output_type": "stream",
          "text": [
            "63.41\n"
          ],
          "name": "stdout"
        },
        {
          "output_type": "stream",
          "text": [
            "/usr/local/lib/python3.6/dist-packages/sklearn/utils/validation.py:760: DataConversionWarning: A column-vector y was passed when a 1d array was expected. Please change the shape of y to (n_samples, ), for example using ravel().\n",
            "  y = column_or_1d(y, warn=True)\n"
          ],
          "name": "stderr"
        }
      ]
    },
    {
      "cell_type": "code",
      "metadata": {
        "id": "9Pg5xSuVagko",
        "colab_type": "code",
        "outputId": "966aacd4-7192-4e90-b2c6-19afd892005a",
        "colab": {
          "base_uri": "https://localhost:8080/",
          "height": 36
        }
      },
      "source": [
        "from sklearn.tree import DecisionTreeClassifier\n",
        "\n",
        "decisiontree = DecisionTreeClassifier()\n",
        "decisiontree.fit(x_train, y_train)\n",
        "y_pred = decisiontree.predict(x_val)\n",
        "acc_decisiontree = round(accuracy_score(y_pred, y_val) * 100, 2)\n",
        "print(acc_decisiontree)"
      ],
      "execution_count": 765,
      "outputs": [
        {
          "output_type": "stream",
          "text": [
            "85.37\n"
          ],
          "name": "stdout"
        }
      ]
    },
    {
      "cell_type": "code",
      "metadata": {
        "id": "2lj9pSxHai49",
        "colab_type": "code",
        "outputId": "90a6245d-2b23-4e43-f344-6eeb92a13d5c",
        "colab": {
          "base_uri": "https://localhost:8080/",
          "height": 93
        }
      },
      "source": [
        "from sklearn.ensemble import RandomForestClassifier\n",
        "\n",
        "randomforest = RandomForestClassifier(n_estimators=35)\n",
        "randomforest.fit(x_train, y_train)\n",
        "y_pred = randomforest.predict(x_val)\n",
        "acc_randomforest = round(accuracy_score(y_pred, y_val) * 100, 2)\n",
        "print(acc_randomforest)"
      ],
      "execution_count": 763,
      "outputs": [
        {
          "output_type": "stream",
          "text": [
            "83.54\n"
          ],
          "name": "stdout"
        },
        {
          "output_type": "stream",
          "text": [
            "/usr/local/lib/python3.6/dist-packages/ipykernel_launcher.py:4: DataConversionWarning: A column-vector y was passed when a 1d array was expected. Please change the shape of y to (n_samples,), for example using ravel().\n",
            "  after removing the cwd from sys.path.\n"
          ],
          "name": "stderr"
        }
      ]
    },
    {
      "cell_type": "code",
      "metadata": {
        "id": "qvtBaY7yalNw",
        "colab_type": "code",
        "outputId": "f2302dca-54dd-48b8-c7a3-a09f0e5a2522",
        "colab": {
          "base_uri": "https://localhost:8080/",
          "height": 93
        }
      },
      "source": [
        "from sklearn.neighbors import KNeighborsClassifier\n",
        "\n",
        "knn = KNeighborsClassifier()\n",
        "knn.fit(x_train, y_train)\n",
        "y_pred = knn.predict(x_val)\n",
        "acc_knn = round(accuracy_score(y_pred, y_val) * 100, 2)\n",
        "print(acc_knn)"
      ],
      "execution_count": 756,
      "outputs": [
        {
          "output_type": "stream",
          "text": [
            "77.44\n"
          ],
          "name": "stdout"
        },
        {
          "output_type": "stream",
          "text": [
            "/usr/local/lib/python3.6/dist-packages/ipykernel_launcher.py:4: DataConversionWarning: A column-vector y was passed when a 1d array was expected. Please change the shape of y to (n_samples, ), for example using ravel().\n",
            "  after removing the cwd from sys.path.\n"
          ],
          "name": "stderr"
        }
      ]
    },
    {
      "cell_type": "code",
      "metadata": {
        "id": "DcDTrGUBan3V",
        "colab_type": "code",
        "outputId": "9aef3edf-f49b-4180-ff99-21dbe5e99cc0",
        "colab": {
          "base_uri": "https://localhost:8080/",
          "height": 93
        }
      },
      "source": [
        "from sklearn.linear_model import SGDClassifier\n",
        "\n",
        "sgd = SGDClassifier()\n",
        "sgd.fit(x_train, y_train)\n",
        "y_pred = sgd.predict(x_val)\n",
        "acc_sgd = round(accuracy_score(y_pred, y_val) * 100, 2)\n",
        "print(acc_sgd)"
      ],
      "execution_count": 757,
      "outputs": [
        {
          "output_type": "stream",
          "text": [
            "63.41\n"
          ],
          "name": "stdout"
        },
        {
          "output_type": "stream",
          "text": [
            "/usr/local/lib/python3.6/dist-packages/sklearn/utils/validation.py:760: DataConversionWarning: A column-vector y was passed when a 1d array was expected. Please change the shape of y to (n_samples, ), for example using ravel().\n",
            "  y = column_or_1d(y, warn=True)\n"
          ],
          "name": "stderr"
        }
      ]
    },
    {
      "cell_type": "code",
      "metadata": {
        "id": "YM17uxcoLiNT",
        "colab_type": "code",
        "colab": {
          "base_uri": "https://localhost:8080/",
          "height": 93
        },
        "outputId": "24a340a2-bfbc-4b95-98fd-7011f453049d"
      },
      "source": [
        "from sklearn.ensemble import GradientBoostingClassifier\n",
        "\n",
        "gbc = GradientBoostingClassifier()\n",
        "gbc.fit(x_train, y_train)\n",
        "y_pred = gbc.predict(x_val)\n",
        "acc_gbc = round(accuracy_score(y_pred, y_val) * 100, 2)\n",
        "print(acc_gbc)"
      ],
      "execution_count": 758,
      "outputs": [
        {
          "output_type": "stream",
          "text": [
            "/usr/local/lib/python3.6/dist-packages/sklearn/ensemble/_gb.py:1454: DataConversionWarning: A column-vector y was passed when a 1d array was expected. Please change the shape of y to (n_samples, ), for example using ravel().\n",
            "  y = column_or_1d(y, warn=True)\n"
          ],
          "name": "stderr"
        },
        {
          "output_type": "stream",
          "text": [
            "81.1\n"
          ],
          "name": "stdout"
        }
      ]
    },
    {
      "cell_type": "code",
      "metadata": {
        "id": "4l2G1Ht6OPwa",
        "colab_type": "code",
        "colab": {
          "base_uri": "https://localhost:8080/",
          "height": 54
        },
        "outputId": "9aa5ef25-5d22-43b9-a841-9bda49490229"
      },
      "source": [
        "# confusion_matrix for\n",
        "# decisiontreeclassifier\n",
        "\n",
        "from sklearn.metrics import confusion_matrix\n",
        "confusion_matrix(y_pred,y_val)\n",
        "\n"
      ],
      "execution_count": 766,
      "outputs": [
        {
          "output_type": "execute_result",
          "data": {
            "text/plain": [
              "array([[62, 14],\n",
              "       [10, 78]])"
            ]
          },
          "metadata": {
            "tags": []
          },
          "execution_count": 766
        }
      ]
    },
    {
      "cell_type": "code",
      "metadata": {
        "id": "zr5GhvTUO0Q4",
        "colab_type": "code",
        "colab": {
          "base_uri": "https://localhost:8080/",
          "height": 284
        },
        "outputId": "91d1abe5-1140-4551-b124-f7911c46fcf2"
      },
      "source": [
        "sns.heatmap(confusion_matrix(y_pred,y_val),cmap=\"coolwarm\")"
      ],
      "execution_count": 767,
      "outputs": [
        {
          "output_type": "execute_result",
          "data": {
            "text/plain": [
              "<matplotlib.axes._subplots.AxesSubplot at 0x7f963b0045c0>"
            ]
          },
          "metadata": {
            "tags": []
          },
          "execution_count": 767
        },
        {
          "output_type": "display_data",
          "data": {
            "image/png": "[encoded data removed]",
            "text/plain": [
              "<Figure size 432x288 with 2 Axes>"
            ]
          },
          "metadata": {
            "tags": []
          }
        }
      ]
    },
    {
      "cell_type": "markdown",
      "metadata": {
        "id": "z6H8gA6NNrr0",
        "colab_type": "text"
      },
      "source": [
        "**FROM ABOVE ALL TRAINED MODELS WE OBSERVE THAT DecisionTreeClassifier WORKS BETTER IN TERMS OF ACCURACY WITH ACCURACY OF 85.37%**"
      ]
    },
    {
      "cell_type": "code",
      "metadata": {
        "id": "wAQ8SHKwNIxU",
        "colab_type": "code",
        "colab": {}
      },
      "source": [
        ""
      ],
      "execution_count": 0,
      "outputs": []
    }
  ]
}